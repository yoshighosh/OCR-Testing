{
  "nbformat": 4,
  "nbformat_minor": 0,
  "metadata": {
    "colab": {
      "name": "OCR Prototypes (PDF Version).ipynb",
      "provenance": [],
      "collapsed_sections": [],
      "mount_file_id": "1dW3f4LHiAAH67ScUeeLmEXUKy_Gw8bNv",
      "authorship_tag": "ABX9TyMcYayRhfE+VkKiWDCRPBEy",
      "include_colab_link": true
    },
    "kernelspec": {
      "display_name": "Python 3",
      "name": "python3"
    },
    "language_info": {
      "name": "python"
    }
  },
  "cells": [
    {
      "cell_type": "markdown",
      "metadata": {
        "id": "view-in-github",
        "colab_type": "text"
      },
      "source": [
        "<a href=\"https://colab.research.google.com/github/yoshighosh/OCR-Testing/blob/main/OCR_Prototypes_(PDF_Version).ipynb\" target=\"_parent\"><img src=\"https://colab.research.google.com/assets/colab-badge.svg\" alt=\"Open In Colab\"/></a>"
      ]
    },
    {
      "cell_type": "markdown",
      "metadata": {
        "id": "nHOUYdDVXPhj"
      },
      "source": [
        "# Testing Tesseract OCR Models\n",
        "\n",
        "**Steps:**\n",
        "- Load in image file\n",
        "- Preprocess using OpenCV\n",
        "- "
      ]
    },
    {
      "cell_type": "markdown",
      "metadata": {
        "id": "ihFUO3U7FUp9"
      },
      "source": [
        "# Convert PDF to image"
      ]
    },
    {
      "cell_type": "code",
      "metadata": {
        "id": "BA8ijF5vFUO1"
      },
      "source": [
        "pip install pdf2image"
      ],
      "execution_count": null,
      "outputs": []
    },
    {
      "cell_type": "code",
      "metadata": {
        "id": "N2plPA-nMfrW"
      },
      "source": [
        "!apt-get install poppler-utils "
      ],
      "execution_count": null,
      "outputs": []
    },
    {
      "cell_type": "code",
      "metadata": {
        "id": "_2xA6_COL6og"
      },
      "source": [
        "pip install python-poppler-qt5"
      ],
      "execution_count": null,
      "outputs": []
    },
    {
      "cell_type": "code",
      "metadata": {
        "id": "4dI1tqkxJvJ5"
      },
      "source": [
        "pdf_paths = [\"/content/drive/MyDrive/Aroshi_highSchool/SEAP vounteer/pdf files/Depth-First Search and Linear Graph Algorithms - Tarjan (1972).pdf\", \"/content/drive/MyDrive/Aroshi_highSchool/SEAP vounteer/pdf files/Efficient String Matching - An Aid to Bibliographic Search - Aho-Corasick (1975).pdf\"]\n",
        "\n",
        "file = \"/content/drive/MyDrive/Aroshi_highSchool/SEAP vounteer/pdf files/Depth-First Search and Linear Graph Algorithms - Tarjan (1972).pdf\"\n",
        "\n",
        "\n",
        "from pdf2image import convert_from_path\n",
        "\n",
        "pages = convert_from_path(file, 500)\n",
        "\n",
        "from IPython.display import Image \n",
        "\n"
      ],
      "execution_count": null,
      "outputs": []
    },
    {
      "cell_type": "code",
      "metadata": {
        "id": "Ybvb3bYbJ--N"
      },
      "source": [
        "pagenumber = 1\n",
        "page_paths = []\n",
        "\n",
        "for page in pages:\n",
        "    filename = \"page\"+ str(pagenumber) + \".jpg\"\n",
        "    pagenumber += 1\n",
        "    page_paths.append(filename)\n",
        "    page.save(filename, 'JPEG')\n",
        "    #display(page)"
      ],
      "execution_count": null,
      "outputs": []
    },
    {
      "cell_type": "markdown",
      "metadata": {
        "id": "BKjnPOJWX3jy"
      },
      "source": [
        "# Loading in the Image file\n",
        "\n",
        "Use OpenCV to load in an image\n"
      ]
    },
    {
      "cell_type": "code",
      "metadata": {
        "id": "J7aG35a3eVcv"
      },
      "source": [
        "import cv2\n",
        "import numpy as np\n",
        "from google.colab.patches import cv2_imshow \n",
        "\n",
        "#paths = ['/content/drive/MyDrive/Aroshi_highSchool/SEAP vounteer/image files/t1.tif', '/content/drive/MyDrive/Aroshi_highSchool/SEAP vounteer/image files/t2.tif', '/content/drive/MyDrive/Aroshi_highSchool/SEAP vounteer/image files/t5.tif', '/content/drive/MyDrive/Aroshi_highSchool/SEAP vounteer/image files/New Image.jpg', '/content/drive/MyDrive/Aroshi_highSchool/SEAP vounteer/image files/Picture_003.jpg', '/content/drive/MyDrive/Aroshi_highSchool/SEAP vounteer/image files/Picture_010.tif', '/content/drive/MyDrive/Aroshi_highSchool/SEAP vounteer/image files/Picture_025.tif', '/content/drive/MyDrive/Aroshi_highSchool/SEAP vounteer/image files/Picture_029.tif']\n",
        "\n",
        "\n",
        "#img = cv2.imread('/content/drive/MyDrive/Aroshi_highSchool/SEAP vounteer/image files/Picture_003.jpg')\n",
        "\n",
        "images = []\n",
        "\n",
        "\n",
        "for page in page_paths:\n",
        "  images.append(cv2.imread(page))\n",
        "  \n",
        "\n",
        "\n",
        "\n",
        "# consider data types: pdf, pptx, word docs, \n"
      ],
      "execution_count": null,
      "outputs": []
    },
    {
      "cell_type": "code",
      "metadata": {
        "id": "PQ8SnXBtQPAV"
      },
      "source": [
        "# display each page using CV\n",
        "\n",
        "def displayImages():\n",
        "  for image in images:\n",
        "    cv2_imshow(image)"
      ],
      "execution_count": null,
      "outputs": []
    },
    {
      "cell_type": "markdown",
      "metadata": {
        "id": "Qn63RJP3f6Ea"
      },
      "source": [
        "# Different Preprocessing functions\n",
        "\n",
        "Methods for preprocessing the image before running it through the OCR"
      ]
    },
    {
      "cell_type": "code",
      "metadata": {
        "id": "dLjqjRFZf4s4"
      },
      "source": [
        "# get grayscale image, good for getting rid of color issues\n",
        "def get_grayscale(image):\n",
        "    return cv2.cvtColor(image, cv2.COLOR_BGR2GRAY)\n",
        "\n",
        "# noise removal, makes image clearer\n",
        "def remove_noise(image):\n",
        "    return cv2.medianBlur(image,5)\n",
        " \n",
        "#thresholding, removes extra marks (lines, smudges, etc)\n",
        "def thresholding(image):\n",
        "    return cv2.threshold(image, 0, 255, cv2.THRESH_BINARY + cv2.THRESH_OTSU)[1]\n",
        "\n",
        "#dilation, bolds text to make it easier to read\n",
        "def dilate(image):\n",
        "    kernel = np.ones((5,5),np.uint8)\n",
        "    return cv2.erode(image, kernel, iterations = 1)\n",
        "    \n",
        "    \n",
        "#erosion, shrinks the edges to make text thinner\n",
        "def erode(image):\n",
        "    kernel = np.ones((5,5),np.uint8)\n",
        "    return cv2.dilate(image, kernel, iterations = 1)\n",
        "\n",
        "#opening - erosion followed by dilation\n",
        "def opening(image):\n",
        "    kernel = np.ones((5,5),np.uint8)\n",
        "    return cv2.morphologyEx(image, cv2.MORPH_OPEN, kernel)\n",
        "\n",
        "#canny edge detection, reverses color layout, not that useful\n",
        "def canny(image):\n",
        "    return cv2.Canny(image, 100, 200)\n",
        "\n",
        "#skew correction, corrects angled writing, good for handwriting??\n",
        "def deskew(image):\n",
        "    coords = np.column_stack(np.where(image > 0))\n",
        "    angle = cv2.minAreaRect(coords)[-1]\n",
        "    if angle < -45:\n",
        "        angle = -(90 + angle)\n",
        "    else:\n",
        "        angle = -angle\n",
        "    (h, w) = image.shape[:2]\n",
        "    center = (w // 2, h // 2)\n",
        "    M = cv2.getRotationMatrix2D(center, angle, 1.0)\n",
        "    rotated = cv2.warpAffine(image, M, (w, h), flags=cv2.INTER_CUBIC, borderMode=cv2.BORDER_REPLICATE)\n",
        "    return rotated\n",
        "\n",
        "#template matching, useful for finding specific parts of a document (if looking for specific symbol or marker)\n",
        "def match_template(image, template):\n",
        "    return cv2.matchTemplate(image, template, cv2.TM_CCOEFF_NORMED) "
      ],
      "execution_count": null,
      "outputs": []
    },
    {
      "cell_type": "markdown",
      "metadata": {
        "id": "keWK8cWwiMz8"
      },
      "source": [
        "# Testing the preprocessing methods\n",
        "\n",
        "sample test of all the methods, can skip running later "
      ]
    },
    {
      "cell_type": "code",
      "metadata": {
        "id": "r3bMLx2WiWiA"
      },
      "source": [
        "for image in images:\n",
        "  image = get_grayscale(image)\n",
        "\n",
        "displayImages()\n",
        "#threshold = thresholding(grayscale)\n",
        "#dilated = dilate(grayscale)\n",
        "#eroded = erode(grayscale)\n",
        "#dil_ero = opening(grayscale)\n",
        "#skew = deskew(grayscale)\n",
        " \n",
        "\n",
        "#cv2_imshow(grayscale)\n",
        "#cv2_imshow(threshold)\n",
        "#cv2_imshow(dil_ero)\n",
        "#cv2_imshow(dilated)\n",
        "#cv2_imshow(eroded)\n",
        "#cv2_imshow(skew)"
      ],
      "execution_count": null,
      "outputs": []
    },
    {
      "cell_type": "markdown",
      "metadata": {
        "id": "MKpYmx2PlO5v"
      },
      "source": [
        "# Installing tesseract\n",
        "\n",
        "Install and import tesseract libraries"
      ]
    },
    {
      "cell_type": "code",
      "metadata": {
        "id": "7W-UYAJQlOT-"
      },
      "source": [
        "!sudo apt install tesseract-ocr\n",
        "!pip install pytesseract"
      ],
      "execution_count": null,
      "outputs": []
    },
    {
      "cell_type": "code",
      "metadata": {
        "id": "efk6hZM6qIPV"
      },
      "source": [
        "import pytesseract\n",
        "from pytesseract import Output"
      ],
      "execution_count": null,
      "outputs": []
    },
    {
      "cell_type": "markdown",
      "metadata": {
        "id": "WQ7RQfuAqK8T"
      },
      "source": [
        "# Boxing Words\n",
        "\n",
        "Test tesseract ability to identify words by adding boxes"
      ]
    },
    {
      "cell_type": "code",
      "metadata": {
        "id": "bPBepRbrqk-s"
      },
      "source": [
        "for img in images:\n",
        "  d = pytesseract.image_to_data(img, output_type=Output.DICT)\n",
        "  # print(d.keys()) # see keys to reference info about the boxes\n",
        "  n_boxes = len(d['text'])\n",
        "  for i in range(n_boxes):\n",
        "      if int(d['conf'][i]) > 60:\n",
        "          (x, y, w, h) = (d['left'][i], d['top'][i], d['width'][i], d['height'][i])\n",
        "          img = cv2.rectangle(img, (x, y), (x + w, y + h), (0, 255, 0), 2)\n",
        "\n",
        "  cv2_imshow(img)\n",
        "  cv2.waitKey(0)"
      ],
      "execution_count": null,
      "outputs": []
    },
    {
      "cell_type": "markdown",
      "metadata": {
        "id": "haGUQN4XsA2y"
      },
      "source": [
        "# Get string output\n",
        "\n"
      ]
    },
    {
      "cell_type": "code",
      "metadata": {
        "id": "V8dZlIfRsG4t"
      },
      "source": [
        "custom_config = r'-l eng --psm 6'\n",
        "text = \"\"\n",
        "\n",
        "for grayscale in images:\n",
        "  text += pytesseract.image_to_string(grayscale, config=custom_config)\n",
        "  \n",
        "print(text)"
      ],
      "execution_count": null,
      "outputs": []
    },
    {
      "cell_type": "markdown",
      "metadata": {
        "id": "eziBQFwrhTie"
      },
      "source": [
        "# Checking word frequencies\n",
        "- use NLTK word tokenize\n"
      ]
    },
    {
      "cell_type": "code",
      "metadata": {
        "colab": {
          "base_uri": "https://localhost:8080/"
        },
        "id": "uLfA91rlgkgH",
        "outputId": "65b5eeab-43db-4767-d748-5ba169d820a3"
      },
      "source": [
        "import nltk\n",
        "from nltk import word_tokenize\n",
        "nltk.download('punkt')\n",
        "\n",
        "from nltk import ngrams, FreqDist\n",
        "\n",
        "import pandas as pd\n",
        "import matplotlib.pyplot as plt\n",
        "import numpy as np"
      ],
      "execution_count": null,
      "outputs": [
        {
          "output_type": "stream",
          "text": [
            "[nltk_data] Downloading package punkt to /root/nltk_data...\n",
            "[nltk_data]   Unzipping tokenizers/punkt.zip.\n"
          ],
          "name": "stdout"
        }
      ]
    },
    {
      "cell_type": "code",
      "metadata": {
        "colab": {
          "base_uri": "https://localhost:8080/"
        },
        "id": "4vYR4vNahjXN",
        "outputId": "4623b916-51b1-4df7-bd32-a86fbba06aa6"
      },
      "source": [
        "words = word_tokenize(text)\n",
        "print(len(words), \"words:\", words)"
      ],
      "execution_count": null,
      "outputs": [
        {
          "output_type": "stream",
          "text": [
            "7759 words: ['SIAM', 'UJ', ']', 'Comput', '!', 'Vol', '1', 'No', ')', '2', ']', 'June', '1972', 'ROBERT', 'TARJANt', 'Abstract', ',', 'The', 'value', 'of', 'depth-first', 'search', 'on', '[', '``', 'backtracking/', '’', 'as', 'a', 'technique', 'for', 'solving', 'problems', 'is', 'illustrated', 'by|', 'two', 'examples', ']', 'An', 'improved', 'version', 'ofl', 'an', 'algorithm', 'for', 'finding', 'the', 'strongly', 'connected', 'components', 'ofl', 'a', 'directed', 'graph|', 'and', 'an', 'algorithm', 'for', 'finding', 'the', 'biconnected', 'components', 'of', 'an', 'un=', 'direct', 'graph', 'are', 'presented', ']', 'The', 'space', 'and', 'time', 'requirements', 'of', ')', 'both', 'algorithms', 'are', 'bounded', 'by', 'k', ',', 'V', '+', 'k', ',', 'B', '#', 'k', ';', 'for', 'some', 'constants', 'k', ',', ',k', ',', ',and', 'k3', ',', 'where', 'Vis', 'the', 'number', 'of', 'vertices', 'and', 'Eis', 'the', 'number', 'ofl', 'edges', 'ofthe', 'graph', 'being', 'examined', '!', '1', '!', 'Introduction', '!', 'Consider', 'a', 'graph', 'G', 'consisting', 'of\\\\', 'a', 'Sef', 'ofivertices', 'VW', 'and', 'a', 'set', 'ofl', 'edges', '|', 'The', 'graphl', 'may', 'either|', 'be', 'directed', '(', 'the', 'edges', 'are', 'ordered', '[', 'pairs', '(', 'v|', 'W', ')', 'ofivertices', 'j', 'v', 'is', 'the', 'tail', 'and', 'w', 'is', 'the', 'head', 'of', 'the', 'edge', ')', 'on', 'undirected', '(', 'the', 'edges', 'are', 'unordered', 'pairs', 'of', 'vertices', ')', 'also', 'fepresented', 'as', '(', 'v', ',', 'w', ')', ')', '.', 'Graphs', 'form', 'a', 'suitable', 'in', 'many', ',', 'areas', ';', 'chemistry', ',', 'and', 'sociology', ']', 'for', 'example', ']', 'Thus', 'it', 'is', 'important', 'to', 'have', 'the', 'most', 'economical', 'algo-', 'In', 'studying', 'graph', 'algorithms', 'we', 'Can', 'not', 'avoid', 'at', 'least', 'a', 'few', 'definitions', ',', 'definitions', 'more-or-less', 'standard', 'literature', ')', '[', '3', ']', ',', 'for', 'instance', '.', ')', 'IfG', '=', '(', 'Y', ']', '@', ')', 'is', 'a', 'graph', ']', 'a', 'path', 'p-', '»', '>', 'w', 'in', 'G', 'is', 'a', 'sequence', 'of', 'vertices', 'and', 'edges', 'leading', 'from', 'uv', 'to', 'wi', 'Al', 'path', 'is', 'simple', 'ifiall', 'its', 'vertices', 'are', 'distinct', '!', '|Al', 'path', 'p', ':', 'v=', 'vis', 'called', 'a', 'closed', 'path', ')', 'Al', 'closed', 'path', 'p', ':', 'v', '=', 'v', 'is', 'a', 'cycle', 'ifiall', 'its', 'edges', 'are', 'distinct', 'and', 'the', 'only', 'Vertex', 'fo', 'occun', 'twice', 'in', '!', 'p', 'is', 'vj', 'which', 'occurs', 'exactly', 'twice', '!', 'same', 'cycle', ']', '[', 'The', 'undirected', 'version', 'of', 'a', 'directed', 'graph', 'is', 'the', 'graph', 'formed', 'by', 'converting', 'each', 'edge', 'oflthe', 'directed', 'graph', 'into', 'an', 'undirected', 'edge', 'and', 'removing', 'duplicate', 'edges', '!', 'An', 'undirected', 'graph', 'is', 'connected', 'if', 'there', 'is', '@', 'path', 'between', 'every', ',', 'pair', 'of', 'vertices', ')', 'Al', '(', 'directed', 'rooted', ')', 'frea', '1', 'is', 'a', 'directed', 'graph', 'whose', 'undirected', 'version', 'is', 'connected', ']', 'having', 'one', 'vertex', 'which', 'is', 'the', 'head', 'of', 'no', 'edges', '(', 'called', 'the', 'root', ')', ',', 'and', 'such', 'thal', '_all', 'vertices', 'except', 'the', 'root', 'are', 'the', 'head', 'of', 'exactly', 'one', 'edge', '!', 'The', 'relation', '“', '‘', '(', 'v', ',', 'w', ')', 'is', 'an', 'edge', 'of', 'T', '”', '’', 'is', 'denoted', 'by', 'vu', '>', 'w.', 'The', 'relation', '‘', 'There', 'is', 'a', 'path', 'from', 'v', 'to', 'w', 'in', 'Tis', 'denoted', 'by|v', '>', 'wi', '[', 'fv', '=', 'w', ',', 'v', 'is', 'the', '[', 'father', 'ofiw', 'and', 'is', 'a', 'son', 'ofin', 'Ife', '+', 'w', ')', 'vis', 'an', 'ancestor', 'of\\\\m', 'and', 'w', 'is', 'a', 'descendant', 'ofiv', ',', 'Every', 'vertex', 'is', 'an', 'ancestor', 'and', 'a', 'descendant', 'of', 'itself', ')', '[', 'fv', 'is', 'a', 'vertex', 'in', 'a', 'tree', '7', ']', '(', '|', 'is', 'the', 'subtree', 'of', '!', '7', 'havinig', 'as', 'vertices', 'all', 'the', 'descendants', 'ofiv', 'in', 'T', '!', 'If', 'G', 'is', 'a', 'directed', 'graph', ',', 'a', 'tree', 'T', 'is', 'a', 'Spanning', 'tree', 'of', 'Gif', 'Dis', 'a', 'subgraph', 'of', 'G', 'and', 'Ti', 'contains', 'all', 'the', 'vertices', 'of', 'G', '!', 'If', 'R', 'and', 'S', 'are', 'binary', 'relations|', '\\\\R*', 'is', 'the', 'transitive', 'closure', 'of|R', ']', 'R~*', 'is', 'the', 'inverse', 'of', '[', 'Rj', 'and', 'RS', '=', '{', '(', 'uJj', 'w', ')', '|dv', '(', 'u', ',', 'vp', ')', 'e', 'R', '&', '(', 'vw', ')', 'Ee', 'S', ')', '}', '*', 'Received', 'by', 'the', 'editors', 'August', '30', '}', '[', '971', ']', 'and', 'in', 'revised', 'form', 'March', '9', '19721', '{', 'Department', 'of|', 'Computer', 'Science', '}', 'Cornell', 'University', 'Ithaca', ',', 'New', 'York', '14850', ')', 'This', 'research', 'was', 'supported', 'by', 'thé', 'Hertz', 'Foundation', 'and', 'the', 'National', 'Science', 'Foundation', 'under', 'Grant', 'GJ-992', '.', 'DEPTH-FIRST', 'SEARCH', 'Ifffi', ',', '--', ':', '>', '.', '(', 'f', ')', 'are', 'functions', 'ofix', ',', ',', '--', '-', ',', 'x', ',', ',', 'wesay|fis', 'O', '(', 'f', ',', ',', '--', '-', ',', '(', 'f', ',', ')', 'if', 'If', '(', 'X15', '+++', ',', 'Xndl', 'Sk', 'HAI', 'filx', ',', '+', '--', '+', ',', 'dal', 'tae', '+', 'kil', 'filX1.°°+', '>', 'Xp', ')', 'for', 'all', 'x', ';', 'and', 'some', 'constants', 'ky', ']', '--', '-', ',', 'k', ',', '/', 'We', 'shall', 'assume', 'a', 'random-access', 'com=', '2', 'search', '.', 'on', 'is', 'a', 'which', 'has', 'been', 'widely', 'used', 'fori', 'finding', 'solutions', 'to', 'problems', 'in', 'combinatorial', 'theory', 'and_artificial', 'intelligence', '[', '2', ']', ',', '[', '11', ']', 'but', 'whose', 'properties', 'have', 'not', 'been', 'widely', 'analyzed', ']', 'Suppose', 'G', 'is', 'a', 'graph', 'which', 'we', 'wish', 'to', 'explore', ']', 'Initially', 'all', 'the', 'vertices', 'of', ')', 'G', 'are', 'unexplored', ']', '(', 'We', 'start', 'from', 'some', 'vertex', 'of', 'G', 'and', 'choose', 'an', 'edge', 'to', 'follow', '!', '(', 'Traversing', 'the', 'edge', 'leads', 'fo', 'a', 'new', 'Vertex', ')', 'We', 'continue', 'in', 'this', 'way', ';', 'at', 'each', 'step', 'we', 'select', '!', 'an', 'unexplored', 'edge', 'leading', 'from', 'a', 'vertex', 'already', 'reached', 'and', 'we', 'traverse', 'this', 'edge', '!', '[', 'The', 'edge', 'leads', 'fo', 'some', 'vertex', ')', 'either', '’', 'new', 'on', 'already', 'reached', '!', 'Whenever', 'we', 'run', 'out', 'ofl', 'edges', 'leading', 'from', 'old', 'vertices', '}', 'we', 'Choose', 'some', 'unreached', 'vertex', ',', 'if', '!', 'any', ',', 'exists', '}', 'and', 'begin', 'a', 'mew', 'exploration', 'from', 'this', 'point', '.', 'Eventually', 'we', 'will', 'traverse', 'all', 'the', 'edges', 'of', 'G|', 'each', 'exactly', 'once', ')', 'Such', 'a', 'process', 'is', 'called', 'a', 'search', 'of', 'G', '!', 'There', 'are', 'many', 'ways', 'ofisearching', 'a', 'graph', ';', 'depending', 'upon', 'the', 'way', ',', 'in', 'which', 'edges', 'to', 'search', 'are', 'selected', '!', 'Consider', 'the', 'following', 'choice', 'rule', ':', 'when', 'selecting', 'an', 'edge', 'fo', 'traverse', ']', 'always', 'choose', 'an', 'edge', 'emanating', 'from', 'the', 'vertex', 'most', 'recently', 'reached', 'which', 'still', 'has', 'unexplored', 'edges', ']', '|Al', 'Search', 'which', 'uses', 'this', 'rule', 'is', 'called', 'a', 'depth-first', 'Search', ')', '(', 'The', 'set', 'of', 'old', 'vertices', 'with', 'possibly', 'unexplored', 'edges', 'may', 'be', 'stored', 'on', 'a', 'stack', '!', 'Thus', 'a', 'depth-first', 'search', 'is', 'very', 'easy', 'to', 'program', 'either', 'iteratively', 'on', 'recursively', ',', 'provided', 'we', 'have', 'a', 'suitable', 'computer', 'representation', 'of', 'a', 'graph', '.', 'DEFINITION', '{', ')', 'Let', 'G', '=', '(', '¥', ';', '&', ')', 'be', 'a', 'graph', '!', 'For', 'each', 'vertex', 've', '/', 'we', 'may', 'cons', 'struct', 'a', 'list', 'containing', 'all', 'vertices', 'w', 'such', 'that', '(', 'v', ',', 'w', ')', 'e€', '4', '!', 'Such', 'a', 'list', 'is', 'called', 'an', 'adjacency', 'list', 'for', 'vertex', 'v', ':', 'A', ')', 'set', 'ofisuch', 'lists', ')', 'one', 'for', 'each', 'vertex', '!', 'inl', 'G', ')', 'is', 'called', 'an', 'adjacency', 'Structure', 'for', 'G', '!', 'If', 'the', 'graph', 'G', 'is', 'undirected', ']', 'each', 'edge', '(', 'vj', 'w', ')', 'is', 'represented', 'twice', 'in', 'an', 'ad-', 'jacency', 'structure', '}', 'once', 'for', 'v', 'and', 'once', 'for', 'wm', 'If', 'G', 'is', 'directed', ']', 'eachl', 'edge', '(', 'v', ']', 'w', ')', 'iis', 'represented', 'once', ':', 'vertex', 'mw', 'appears', 'in', 'the', 'adjacency', 'list', 'ofivertexi', 'Al', 'single', 'graph', 'may', 'have', 'many', 'adjacency', 'structures', ';', 'inl', 'fact', ']', 'each', 'ordering', 'ofthe', 'edges', 'around', 'the', 'vertices', 'off', 'G', 'gives', 'a', 'unique', 'adjacency', 'structure', ']', 'and', 'each', 'adjacency', 'structure', 'corresponds', 'fo', 'a', 'unique', 'ordering', 'ofithe', 'edges', 'at', 'each', 'vertex', ')', 'Using', 'an', 'adjacency', 'structure', 'for', 'a', 'graph', ']', 'we', 'can', 'perform', 'depth-first', '!', 'Searches', 'in', 'a', 'very', 'efficient', 'manner', ',', 'as', 'we', 'shall', 'see', ',', 'Suppose', 'G', 'iis', 'a', 'connected', 'undirected', 'graph', '!', 'Al', 'search', 'ofiG', 'imposes_a', 'direction', 'on', 'each', 'edge', 'of', 'G', 'given', 'by', 'the', 'direction', 'in', 'which', 'the', 'edge', 'is', 'traversed', 'when', 'the', 'search', 'is', 'performed', '}', 'Thus', 'Gi', 'is', 'converted', 'into', 'a', 'directed', 'graph', 'G', '’', ')', 'The', 'set', 'ofiedges', 'which', 'lead', 'to', 'a', 'new', 'vertex', 'when', 'traversed', 'during', 'the', 'Search', 'defines', 'a', 'spanning', 'tree', 'of', 'G', '’', ')', 'In', 'general', ')', 'the', 'arcs', 'of', 'G', '!', 'which', 'are', 'not', 'part', 'of', 'the', 'spanning', 'tree', 'inter', 'connect', 'the', 'fpathis', 'in', 'the', 'tree', ']', 'However', ',', 'ifithe', 'search', 'is', 'depth-first', ')', 'each', 'edge', '(', 'vw', ')', 'not', 'in', 'the', 'Spanning', 'tree', 'connects', 'vertex', 'uv', '|with', 'one', 'of', 'its', 'ancestors', 'w', 'DEFINITION', '2', '!', 'Let', 'P', 'be', 'a', 'directed', 'graph', 'consisting', 'ofi', 'fwo', 'disjoint', 'sets', 'of', 'edges|', 'denoted', 'by', 'v', '=', 'wand', 'x', '--', '>', 'wirespectively', ']', 'Suppose', 'P', 'satisfies', 'the', 'following', '(', 'i', ')', 'The', 'subgraph', '7', 'containing', 'the', 'edges', 'v', '=', 'w', 'is', 'a', 'Spanning', 'tree', 'of', 'P', '!', 'ROBERT', 'TARJAN', 'We', 'have-—', '¢', '(', '4', ')', \"'\", ',', 'where', '‘', '‘', '—', '”', 'and', '‘', '‘', '--', '>', '”', '’', 'denote', 'the', 'relations', 'defined', 'by', 'the', 'corresponding', 'set', 'of', '!', 'edges', 'That', 'sj', 'each', 'edge', 'which', 'is', 'not', 'in', 'the', '(', '1', ')', 'of', 'Pi', 'connects', 'a', 'vertex', 'with', 'one', 'of', 'its', 'ancestors', 'in', '!', 'T', '!', 'Then', 'P', 'is', 'called', 'a', '\\\\palm', 'tree', ')', 'The', 'edges', 'o', '-—', '>', 'w', 'are', 'called', 'thelfronds', 'of', 'P', '!', '(', 'THEOREM', '1', '!', 'Let', 'P', 'be', 'the', 'directed', 'graph', 'generated', 'by', 'a', 'depth-first', 'search', 'of\\\\a', 'connected', 'graph', 'G', '!', 'Then', 'P', 'is', 'a', 'palm', 'tree', '!', 'Conversely', ',', 'let', 'Pi', 'be', 'any', 'palm', 'tree', ')', 'Then', 'P', 'is', 'generated', 'by', 'some', 'depth-first', 'search', 'of\\\\thé', 'undirected', 'version', 'of', ')', 'P', '!', 'listed', 'out', 'a', 'search', 'ofla', 'connected', 'graph', ')', 'starting', 'at', 'vertex', 'sj', 'using', 'an', 'adjacency', 'structure', 'ofithe', 'graph', 'to', 'be', 'searched', ')', 'The', 'program', 'numbers', 'thi', 'vertices', 'of\\\\the', 'graphi', 'in', 'the', 'order', 'they', 'are', 'reached', 'during', 'the', 'search', 'and', 'constructs', 'the', 'directed', 'graph\\\\', '(', 'P', ')', 'generated', 'by', 'the', 'search', '!', 'INTEGER', 'i', ';', 'PROCEDURE', 'DFSv', '(', 'v', ',', 'u', ')', '}', ';', 'COMMENT', 'vertex', 'a', 'is', 'the', 'father', 'of', 'vertex', 'v', 'in', 'the', 'Spanning', ']', 'tree', 'being', 'constructed', ';', 'NUMBER', '(', 'v', ')', 'f', '[', '=i', ':', '=i4', '13', 'FOR', 'w', 'in', 'the', 'adjacency', 'list', 'of', '7', 'DO', 'LF', 'w', 'is', 'not', 'yet', 'numbered', 'THEN', 'construct', 'arc', 'p', '=', 'w', 'in', 'P', '}', 'DFS', '(', 'w4', '0', ')', ':', 'ELSE', 'IF', 'NUMBER', '(', 'w', ')', '<', 'NUMBER', '(', 'v', ')', 'and', 'w', '—', '=', 'u', 'THEN', 'construct', 'arc', '0', '--', '>', 'w', 'in', 'p', ';', 'END', '}', 'END', ';', 'DFS', '(', 's', ',', '0', ')', ';', 'END', ';', 'Figure', '1', 'gives', 'an', 'example', 'of', 'the', 'application', 'of', 'DFS', 'to', 'a', 'graph', ']', 'Suppose', 'P', '=', '(', '¥', ',', '6', ')', 'is', 'the', 'directed', 'graph', 'generated', 'by', 'a', 'depth-first', 'search', 'of', 'some', 'con-', 'nected', 'graph', 'Gj', 'and', 'assume', 'that', 'the', 'search', 'begins', 'at', 'Vertex', 's', ':', 'Examine', 'the', 'proce', ';', 'dure', 'DFS', '!', 'The', 'algorithm', 'clearly', 'terminates', 'because', 'each', 'vertex', '’', 'can', 'only', 'be', 'numbered', 'once', ')', 'Furthermore', ',', 'each', 'edge', 'in', 'the', 'graph', 'is', 'examined', 'exactly', 'twice', '!', 'Therefore', 'the', 'time', 'required', 'by', 'the', 'search', 'is', 'linear', 'inl', 'Vi', 'and', 'E', ')', 'For', 'anly', 'vertices', '»', 'and', 'mw', ')', 'let', 'd', '(', 'v|', 'w', ')', 'be', 'the', 'length', 'ofithe', 'shortest', 'path', 'between', 'v', 'and', 'w', 'in', 'G', ')', 'Since', 'Gis', 'connected', ',', 'alll', 'distances', 'are', 'finite', ')', 'Suppose', 'that', 'some', 'vertex', 'remains', 'unnumbered', 'by', 'tthe', 'search', ')', 'Let', 'o', 'be', 'an', 'unnumbered', 'Vertex', 'such', 'that', 'd', '(', 's', '}', 'v', ')', 'is', 'minimal', '!', 'Then', 'there', 'is', 'vertex', 'w', 'Such', 'that', 'w', 'is', 'adjacent', 'to', 'u', 'and', 'ds', ']', 'w', ')', '<', 'i', 'd', '(', 's', '}', 'v', ')', '|', 'Thus', 'w', 'is', 'numbered', '!', 'But', 'v', 'will', 'also', 'be', 'numbered', ',', 'since', 'it', 'is', 'adjacent', 'to', 'w1', 'This', 'means', 'that', 'all', 'vertices', 'are', 'numbered', 'during', 'the', 'search', '!', 'DEPTH-FIRST', 'SEARCH', 'D', 'G', 'a', 'ne', 'Zoo™~', 'E', '(', 'b', ')', '(', 'F', ',', 'G', ')', 'G', '(', '7', ')', '_', '/|', '\\\\E', '(', '6', ')', '—', 'g', 'H', '(', '8', ')', 'i', '\\\\', '|', 'L', 'Wet', ')', '\\\\', '>', '\\\\', 'me', '\\\\', '|', 'pia', ')', '/', '\\\\\\\\', 'vt', '\\\\', '(', 'H', ',', 'C', ')', '\\\\', '|', '\\\\', '4C', '(', '3', ')', 'j', '\\\\', 'B', '(', '2', ')', ',', 'a', '“', '”', 'A', '(', '1', ')', 'Fic', ')', 'L', 'Application', 'pf\\\\depth-first', 'search', 'to', 'a', 'graph', '(', 'b', ')', 'Order', 'of\\\\edge', 'exploration', '(', 'c', ')', 'Generated', 'palm', 'tree', ']', 'with', 'numbers', 'off', 'vertices', 'in', '(', '|', ')', 'The', 'Vertex', 's', 'is', 'the', 'head', 'ofino', 'edge', 'w', '=', 'si', 'Each', 'other', 'vertex', 'v', 'is', 'the', 'head', 'of', 'exactly', 'one', 'edge', 'wm', '=', 'v', ')', 'The', 'subgraph', 'T', 'of\\\\P', 'defined', 'by', 'the', 'edges', 'v', '>', 'wis', 'obvious', ':', 'ly', 'connected', ']', 'Thus', 'iis', 'a', 'Spanning', 'tree', 'of', 'P', ')', 'Each', 'arc', 'ofi', 'the', 'original', 'graph', 'is', 'directed', 'in', 'at', 'least', 'one', 'direction', 'if|', '(', 'vj', 'w', ')', 'does', 'not', 'become', 'an', 'arc', 'of', 'the', 'Spanning', 'tree', '[', 'I', ']', 'either', 'v', '-—', '>', 'mw', 'on', 'w==5', 'p', 'Must', 'be', 'constructed', 'since', 'both', 'v', 'and', 'w', 'are', 'numbered', 'whenever', 'edge', '(', 'v', ']', 'w', ')', 'is', 'inspected', 'and', 'Ee', 'NUMBER', '(', 'v', ')', '=', '>', 'NUMBER', '(', 'w', ')', '!', 'The', 'arcs', '»', '>', 'w', 'run', 'from', 'smaller', 'numbered', 'points', 'to', 'larger', 'numbered', 'points', '!', 'The', 'arcs', 'v=', 'w', 'run', 'from', 'larger', 'numbered', 'points', 'to', 'Smaller', 'numbered', 'points', '.', 'If', 'arc', 'o-—', 'w', 'is', 'constructed', ')', 'arcw', '—', 'o', 'is', 'not', 'constructed', 'later', 'because', 'za', 'is', 'num-', 'bered', '!', '[', 'farc', 'w', '=', 'o', 'is', 'constructed', ']', 'arco', '-—', 'w', 'is', 'not', 'later', 'constructed', ']', 'because', 'ofl', 'the', 'test', '‘', '“', '“', 'w—', '=', 'u', '”', 'in', 'procedure', 'DFS', ')', '[', 'hus', 'each', 'edge', 'in', 'the', 'original', 'graph', 'is', 'directed', 'in', 'one', 'and', 'only', 'one', 'direction', '!', 'Consider', 'an', 'arc', 'v-=', 'wi', 'We', 'have', 'NUMBER', '(', 'w', ')', '&', 'NUMBER', '(', 'v', ')', '!', 'Thus', 'w', 'is', 'numbered', 'before', 'vw', ';', 'Since', 'vu', '-—', 'w', 'is', 'constructed', 'and', 'not', 'w', '—', 'vj', 'v', 'must', 'be', 'num-', 'bered', 'before', 'edge', '(', 'w', ']', 'p', ')', 'is', 'inspected', ']', 'Thus', 'v', 'must', 'be', 'numbered', 'during', 'execution', 'DFS', '(', 'w', ',', '-', ')', '.', 'But', 'all', 'vertices', 'DFS', '(', 'w', ',', '-', ')', 'descendants', 'ofiw', ':', 'This', 'means', 'that', 'w', '>', 'vj', 'and', 'G', 'is', 'a', 'palm', '|', 'tree', ')', 'Let', 'us', 'prove', 'the', 'converse', 'part', 'of', 'the', 'theorem', '!', 'Suppose', 'that', 'IP', 'is', 'a', 'palm', 'free', ')', 'with', 'spanning', 'tree', '[', 'and', 'undirected', 'version', 'G', ')', 'Construct', 'an', 'adjacency', 'structure', 'ofiG', 'in', 'which', 'all', 'the', 'edges', 'of|', 'T', 'appean', 'before', 'the', 'other', 'edges', 'oflG', 'in', 'the', 'adjacency', 'lists', ']', 'Starting', 'with', 'the', 'root', 'ofl', '7', ';', 'perform', 'a', 'depth-first', 'search', 'using', 'this', 'adjacency', 'structure', ']', 'The', 'search', 'will', 'traverse', 'the', 'edges', 'ofl', 'T', 'preferentially', 'and', '‘', 'will', 'generate', 'the', 'palm', 'free', '|P', 'jit', 'is', 'easy', 'to', 'see', 'that', 'each', 'edge', 'is', 'directed', 'correctly', ']', 'This', 'completes', 'We', 'mal', 'state', '[', 'Theorem', 'Il', 'nonconstructively', 'as', 'the', 'following', 'corollary', '!', 'CorROLLArRY', '2', '!', 'Let', 'G', 'be', 'any', 'undirected', 'graph|', 'Then', 'G', 'can', 'be', 'converted', 'into', 'a', 'palm', 'tree', 'by', 'directing', 'its', 'edges', 'in', 'a', 'suitable', 'manner', '3.', 'search|', 'follows', 'Structure', 'of', 'a', 'palm', 'tree', ')', 'Let', 'us', 'consider', '@', 'problem', 'in', ')', 'which', 'this', 'structure', 'is', 'DEFINITION', '8', ']', 'Let', 'G', '=', '(', 'Y', ';', '&', ')', 'be', 'an', 'undirected', 'graph', ']', 'Suppose', 'that', 'for', 'each', 'triple', 'ofidistinct', 'vertices', 'pj', 'w', ',', 'a', 'in', 'Y', ';', 'there', 'is', 'a', 'path', 'pv', '=', '>', 'w', 'such', 'that', 'ais', 'not', 'on', 'the', 'path', 'p', ';', '(', 'Then', 'G_is', 'biconnected', ')', '(', 'Other', 'equivalent', 'definitions', 'exist', '.', ')', 'If', ']', 'on', 'the', 'other', 'hand', ',', 'there', 'is', 'a', 'triple', 'of', 'distinct', 'vertices', 'v', ',', 'w', ',', 'a', 'in', \"'W\", 'Such', 'thata', 'is', 'on', 'any', '[', 'path', 'p-v', '>', 'w', ',', 'and', 'there', 'exists', 'at', 'least', 'one', 'such', 'path', ']', 'then/', 'a', 'is', 'called', 'an', 'Lemma', '3', ']', 'Let', 'G', '=', '(', 'Vj', '&', ')', 'be', 'an', 'undirected', 'graph|', 'Wel', 'may', 'define', 'an', 'equivalence', 'relation', 'on', 'the', 'Set', 'of\\\\edges', 'as', 'follows', '}', 'two', 'edges', 'are', 'equivalent', 'if', 'and', 'only', '{', 'f|they', 'belong', 'to', '@', 'common', 'cycle', '}', 'Let', 'the', 'distinct', 'equivalence', 'classes', 'under', 'this', 'relation', 'be', 'é', ',', '1', 'Si', '<', 'n', ',', 'and', 'let', 'G', ';', '=', '(', '¥', ';', ',', '6', ')', ')', 'where', '¥', ';', 'is', 'the', 'set', 'of\\\\vertices', 'incident', 'to', 'the', 'edges', 'of', ';', '7', ']', '=', '{', 'u', ']', 'aw', '(', 'v', ']', 'we', '&', ')', '}', '|', 'Then', ':', '(', 'i', ')', 'G', ',', 'is', 'Biconnected', ')', 'for', 'each', '1', 'Si', '<', '7', '(', 'ii', ')', 'No', 'G', '}', 'is', 'a', 'proper', 'subgraph', 'ofia', 'biconnected', 'subgraph', 'of\\\\G', '.', 'Each', 'articulation', 'point', 'of|G', 'occurs', 'more', 'than', 'once', 'among', 'the', 'V', ';', ',', '|', 'SiSn', '.', 'Each', 'honarticulation', 'point', 'of|', 'G', 'occurs', 'exactly', 'once', 'among', 'the', '¥', ';', ',', 'lsisn', '.', 'The', 'set', 'Vj', '0', ')', '(', '¥', '}', 'contains', 'at', 'most', 'one', 'point', ')', '|for', 'any', 'I', '<', 'i', ',', 'j', '§', 'nj', 'Such', 'a', 'The', 'subgraphs', 'G', '}', 'of|G', 'are', 'called', 'the', 'biconnected', 'components', 'of|G', '!', 'Suppose', 'we', 'wish', 'to', 'determine', 'the', 'biconnected', 'components', 'ofian', 'undirected', 'graph', 'G', ')', 'Common', 'algorithms', 'for', 'this', 'purpose', ';', 'for', 'instance', ',', 'Shirey', '’', 's', '[', '14', ']', ']', 'test', 'each', 'vertex', 'in', 'turn', 'to', 'discover', 'iflit', 'is', 'an', 'articulation', 'point', 'Such', 'algorithms', 'require', 'V4\\\\E', ')', 'where', 'Viis', 'the', 'number', 'ofivertices', 'and', 'EB', 'is', 'the', 'number', 'ofiedges', 'ofthe', 'graph|', 'A', ')', 'more', 'efficient', 'algorithm', ')', 'uses', 'depth-first', 'search', ')', 'Let', 'P', 'be', 'a', 'palm', 'tree', 'generated', 'by', 'a', 'depth-first', 'search', ',', 'Suppose', 'the', 'vertices', 'of', 'P', 'are', 'num', 'bered', 'in', '!', 'the', 'order', 'they', 'are', 'reached', 'during', 'the', 'Search', '(', 'as', 'is', 'done', 'by', 'the', 'procedure', 'DFS', 'above', ')', '!', '(', 'We', 'shall', 'refer', 'to', 'vertices', 'by', 'their', 'numbers', '!', 'Ifiw', 'is', 'an', 'ancestor', 'of', 'u', 'in', 'the', 'spanning', 'tree', '[', 'ZT', 'of\\\\|P|', 'then', 'u', '&', 'ow', ')', 'For.any', 'vertex', 'o', 'inl', 'P|', 'let', 'LOWPT', '(', 'v', ')', 'be', 'the', 'smallest', 'vertex', 'ini', 'the', 'set', '{', 'v', '}', 'U', '{', 'wie', '%', '--', 'w', '}', '.', 'That', 'is', '!', ')', 'LOWPT', '(', 'v', ')', 'is', 'the', 'smallest', 'vertex', 'reachable', 'from', 'v', 'by', 'traversing', 'zero', 'on', 'more', 'free', 'arcs', 'followed', 'by', 'at', 'most', 'one', 'frond', '!', 'The', 'following', 'results', 'form', 'the', 'basis', 'of|', 'an', 'efficient', 'algorithm', ')', '15', ']', 'for', 'finding', 'biconnected', 'components', ')', 'This', 'algorithm', 'was', 'discovered', 'by', 'Hopcroft', 'and', '[', 'Tarjan', '[', '4', ']', 'Paton', '[', '12', ']', 'describes', 'a', 'Similar', 'algorithm', ']', 'LEMMA', '!', '4', ')', '(', 'Let', '!', 'G', 'be', 'an', 'undirected', 'graph', 'and', 'Jet', 'P', 'be', 'a', 'palm', 'tree|formed', 'by', 'directing', 'thé', 'edges', 'of|G', ')', 'Let', 'Tbe', 'thd', 'spanning', 'tree', 'of\\\\P', '!', 'Suppose', 'p', ':', 'v', '>', 'w', 'is', 'any', 'path', 'in', 'G', ']', 'Then', 'p', 'contains', 'a', 'point', 'which', 'is', 'an', 'ancestor', 'of\\\\both', 'v', 'and', 'w', 'in', 'T', 'Proof|', 'Let', 'Tj', 'with', 'root', 'u', 'be', 'the', 'smallest', 'subtree', 'of', '1', 'containing', 'all', 'vertices', 'on', 'the', 'path', 'pj', 'Ifu', '=', 'voru', '=', 'wi', 'the', 'lemmia', 'is', 'immediate', '!', 'Otherwise', ']', 'let', 'T', ',', ',', 'and', 'T', ',', ',', 'be', 'two', 'distinct', 'subtrees', 'containing', 'points', 'on', 'p', 'such', 'that', 'u—', 'u', ',', 'and', 'u—', 'up', '.', 'Ifonly', 'one', 'such', 'subtree', 'exists', ']', 'then', ')', 'a', 'is', 'on', 'p', 'since', '[', 'fis', 'minimal', ')', '[', 'fifwo', 'such', 'sub', '{', 'rees', 'exist', ']', 'path', 'p', 'can', 'only', 'get', 'from', '[', '|', 'to', 'T', ',', ']', 'by', 'passing', 'through', 'vertex', 'my', 'Since', 'no', 'point', 'in', 'one', 'of', 'these', 'trees', 'is', 'an', 'ancestor', 'ofi', 'any', 'point', 'in', 'the', 'other', ']', 'while', 'both', '=', '»', 'and', ')', '==', '»', 'connect', 'only', 'ancestors', 'in', 'a', 'palm', 'tree', '!', 'Since', 'w', 'is', 'an', 'ancestor', 'of', 'both', 'o', 'and', 'w', ',', 'the', 'lemma', 'holds', '!', 'Lemma', '_5', ']', 'Let', 'Gi', 'be', 'a', 'connected', 'undirected', '\\\\graph|', 'Let', 'P', 'be', 'a', 'palm', 'tree', 'formed', 'by', 'directing', 'the', 'edges', 'of|G', ')', 'and', 'let', '(', 'D', 'be', 'the', 'spanning', 'tree', \"of\\\\'P\", ')', 'Suppose', 'a', ',', 'v', ',', 'w', 'are', 'distinct', 'vertices', 'of|G', 'such', 'that', '(', 'aj', 'v', ')', '€', 'T|', 'and', 'suppose', 'w', 'is', 'not', 'a', 'descendant', 'of\\\\v', 'in', '(', 'T', ')', '(', 'That', 'is', '}', '5', '>', 'w', ')', 'in', 'T', ')', 'I', '{', '[', 'LOWPT', '(', 'v', ')', '=', 'gg', ',', 'then', 'ais', 'an', 'articulation', 'point', 'of\\\\P', 'and', 'removal', 'of|a', '@', 'disconnects', 'v', 'and', 'wi', 'Conversely', ']', 'if', ')', '/a', 'is', 'an', 'articulation', 'point', 'of|', 'G', ';', 'then', 'there', 'exist', 'bertices', 'v', 'and', 'w', 'which', 'satisfy', 'the', 'properties', 'above', '!', 'Proof', '.', 'Ifa', '=', 'vandLOWPT', '(', 'v', ')', '2', 'ajthenlany', 'path', 'from', 'v', 'not', 'passing', 'through', '@', 'remains', 'in', 'the', 'subtree', '7', ',', 'and', 'this', 'subtree', 'does', 'not', 'contain', 'the', 'point', 'wi', 'This', 'gives', 'the', 'first', 'part', 'ofithe', 'lemma', '!', '[', 'Co', 'prove', 'the', 'converse', ',', 'let', '@', 'be', 'an', 'articulation', 'point', 'of', 'G', 'If', 'a', 'is', 'the', 'roof', 'of', '{', 'P|', 'then', 'af', 'least', '{', 'wo', 'free', 'arcs', 'must', 'emanate', 'from', 'a', 'Let', 'vu', 'be', 'the', 'head', 'of', 'one', 'suchi', 'arc', 'anid', 'let', 'w', 'be', 'the', 'head', 'ofianother', 'such', 'arc', '.', 'Then', 'a', '=', 'pj', ')', 'LOWPT', '(', 'v', ')', '&', 'ay', 'and', '!', 'w', 'is', 'not', 'a', 'descendant', 'of', 'm', 'Ifia', 'is', 'not', 'the', 'root', 'of', 'P|', 'consider', 'the', 'connected', 'components', 'formed', 'by', 'deleting', 'a', 'from', 'G', ')', 'One', 'component', 'must', 'consist', 'only|', 'of', 'descendants', 'ofiai', 'Such', 'a', 'component', 'can', 'contain', 'only', 'one', 'son', 'of', 'v', 'by', 'Lemma', '4', ')', 'Let', 'pv', 'be', 'such', 'ason', 'of', 'a', '!', 'Let', 'w', 'be', 'any', 'proper', 'ancestor', 'ofia', 'Then', 'a', '=', 'vj', ')', 'LOWPT', '(', 'v', ')', '=', 'a', ',', 'and', 'w', 'is', 'not', '@', 'descendant', 'of', 'v', ')', 'Thus', 'the', 'converse', 'part', 'of', 'the', 'lemma', 'is', 'COROLLARY', '6', '!', 'Let', 'G', 'be', '@', 'connected', 'undirected', 'graph', ',', 'and', 'let', 'Pi', 'be', 'a', 'palm', 'tree', 'formed', 'by', 'directing', 'the', 'edges', 'of', '|G', '!', 'Suppose', 'that', 'P', 'has', 'a', 'spanning', 'tree', 'T', ')', '1f|C', 'isa', 'biconnected', 'component', 'of\\\\G', ')', 'then', 'the', 'vertices', 'of|C', 'define', 'a', 'subtree', 'of', ')', 'T', ']', 'and', 'the', 'root', 'pf|this', 'subtree', 'is', 'either', 'an', 'articulation', 'point', 'of|', 'G', 'or', 'is', 'the', 'root', 'of|T', '!', 'Figure', '2', 'shows', 'a', 'graph', '}', 'its', 'LOWPT', 'values', ']', 'articulation', 'points', ']', 'and', 'bi', 'connected', 'components', ']', 'The', 'LOWPT', 'values', 'of', '!', 'all', 'the', 'vertices', 'of', '!', 'a', 'palm', ')', 'free', 'P', 'LOWPI', '(', '0', ')', '=', 'min', '(', '{', 'NUMBER', '(', ')', '}', 'U', '{', 'LOWPT', '(', 'wl', '>', 'w', '}', 'U', '(', 'NUMBER', '(', 'w', ')', '}', 'o', '=', 'W', '}', ')', '.', 'components', 'may', 'be', 'determined', ',', 'all', 'during', 'one', 'search', '.', 'The', 'biconnectivity', 'algo', ';', 'rithm', 'is', 'presented', 'below', ']', 'The', 'program', 'will', 'compute', 'the', 'biconnected', 'components', '4', '3', '3', '5', '4', '[', '(', '2', ']', '6', '(', 'i', ')', '9', '[', '7', ']', '\\\\', '3', '[', '2', ']', ')', 'Bry', '%', '/', '|', '6', '/', '\\\\', '|', 'A', '~', 'es', '\\\\', '/', '7', '2', '[', 'I', '/', \"''\", 'lye', 'Torn', \"''\", '9', '7', '*', '1C1', ')', '8', '(', 'a', ')', '4', '3', '8', '7', '<', 'I', '|', '9', '5', '<', '>', '|', '(', 'c', ')', 'FiG', '!', '2', ')', '(', 'A', 'graph', 'and', 'its', 'biconnected', 'components', '(', 'b', ')', '!', 'A', 'palm', 'tree', 'with', 'LOWPTT', 'values', 'in', '{', '|', '{', '|', 'articulation', 'points', 'marked', 'with', '*', 'of/a', 'graph', 'G', ']', 'starting', 'from', '!', 'vertex-s', 'INTEGER', 'i', ';', 'procedure', 'BICONNECT', '(', '2', ',', 'u', ')', '3', 'NUMBER', '(', 'v', ')', 't=i', ':', '=i', '4', '13', 'LOWPT', '(', 'v', ')', '=', 'NUMBER', '(', '0', ')', ';', 'FOR', 'w', 'in', 'the', 'adjacency', 'list', 'of', '»', 'DO', 'IF', 'is', 'not', 'yet', 'numbered', 'THEN', 'add', '(', 'vj', 'w', ')', 'to', 'stack', 'ofiedges', ';', 'BICONNECT', '(', 'wj', 'v', ')', 'r=', 'min', '(', 'LOWPT', '(', 'v', ')', '}', 'LOWPT', '(', 'w', ')', ')', ';', 'IF', '}', 'LOWPT', '(', 'w', ')', '&', 'NUMBER', '(', 'v', ')', 'THEN', 'start', 'new', 'biconnected', 'component', '}', 'WHILE', 'top', 'edge', '2', '=', '(', 'u', ';', ',', 'v2', ')', 'on', 'edge', 'stack', 'has', 'NUMBER', '(', 'u', ',', ')', '>', 'NUMBER', '(', 'w', ')', 'DO', 'delete', '(', 'u', ',', ',u', ',', ')', 'from', 'edge', 'stack', 'and', 'add', 'if', 'to', 'current', 'component', ';', 'delete', '(', 'v|', 'w', ')', 'from', 'edge', 'stack', '!', 'and', 'add', 'it', 'to', 'Current', 'component', ';', 'ELSE', 'IF', '(', 'NUMBER', '(', 'w', ')', '&', 'NUMBER', '(', 'v', ')', ')', 'and', '(', 'w—', '=', 'u', ')', 'THEN', 'add', '(', 'vw', ')', 'fo', 'edge', 'stack', '’', ';', 'r=', 'min', '(', 'LOWPT', '(', 'v', ')', ',', 'END', ';', 'END', '}', 'i1', ':', '=0Q', ';', 'FORWw', 'a', 'vertex', 'DO', 'IF\\\\w', 'is', 'not', 'yet', 'numbered', 'THEN', 'BICONNECT', '(', 'w', ',', '0', ')', ';', 'END', ';', 'The', 'edges', 'of|G', 'are', 'placed', 'on', 'a', 'Stack', 'as', 'they', 'are', 'traversed', ';', 'when', 'an', 'articula-', 'tion', '!', 'point', 'is', 'found', 'the', 'corresponding', 'edges', 'are', 'all', 'on', 'top', 'ofithe', 'stack', '!', '(', 'Iff', '(', 'v', ']', 'w', ')', '€', '1', 'LOWPT', '(', 'w', ')', '&', 'LOWPT', '(', 'v', ')', ',', 'then', 'ponent', 'contains', 'the', 'edges', 'in', '{', '(', 'u', ';', ',', 'u', ',', ')', 'lw', '%', 'u', ',', '}', 'U', '{', '(', 'o', ',', ')', '}', 'which', 'are', 'on', 'the', 'edge', 'stack', '.', ')', 'Al', 'single', 'search', 'on', 'each', 'connected', 'component', '_of|a', 'graph', 'G', 'will', 'give', 'us', 'all', 'THEOREM', '7', ')', 'The', 'biconnectivity', 'falgorithm|', 'requires', 'O', '(', 'V', ',', 'E', ')', 'space', 'and', 'time', 'when', 'applied', 'to', 'algraph', 'with', 'V\\\\', 'vertices', 'and', '|b', 'edges', '!', 'ROBERT', 'TARJAN', 'Proof', ']', 'The', 'algorithm', 'Clearly', 'fequires', 'space', 'bounded', 'by|', 'k', ',', 'V/', '#', 'KH', '+', 'ke', 'for', 'some', 'constants', 'k', ',', '|', 'k', ',', ']', 'and', 'k', ';', '|', 'The', 'algorithm', 'is', 'an', 'elaboration', 'of', 'the', 'depth-', 'first', 'Search', 'procedure', 'DFS', ']', 'During', 'the', 'search', ')', 'LOWPT', 'values', 'are', 'calculated', 'and', 'each', 'edge', 'is', '[', 'placed|', 'on', 'the', 'edge', 'stack', 'once', 'and', 'removed', 'from', 'the', 'edge', 'stack', 'once', ')', 'The', 'amount', 'oflextra', 'time', 'required', 'by', 'these', 'operations', 'is', 'proportional', 'to', 'E', ')', 'Thus', 'BICONNECT', 'has', 'a', 'time', 'bound', 'Iinear', 'in', '!', 'Vi', 'and', 'E', ')', 'Proof|', 'The', 'actual', 'depth-first', 'search', 'undertaken', 'by|', 'the', 'algorithm', ')', 'depends', 'on', 'the', 'adjacency', 'structure', 'chosen', 'to', 'represent', 'Gj', 'we', 'shall', 'prove', 'thai', 'the', 'algorithm', 'is', 'correct', 'for', 'all', 'adjacency', 'structures', '!', 'Notice', 'first', 'that', 'the', 'biconnectivity', 'algorithm', ')', 'analyzes', 'each', 'connected', 'component_of', 'G', 'separately', 'to', 'find', 'lits', 'biconnected', 'com-', 'ponents', ']', 'applying', ')', 'one', 'depth-first', 'search', 'to', 'each', 'connected', 'component', ']', 'Thus', 'we', 'need', 'only', 'prove', 'that', 'the', 'biconnectivity', 'algorithm', 'works', 'correctly', 'on', 'connected', 'The', 'correctness', 'proof', 'is', 'by', 'induction', 'on', 'the', 'number', 'ofledges', 'in', 'G', ']', 'Suppose', 'G', 'is', 'connected', 'and', 'contains', 'no', 'edges', ']', 'G', 'either', 'is', 'empty', 'on', 'consists', 'ofia', 'Single', 'point', '!', 'will', 'after', 'and', 'Thus', 'the', 'algorithm', 'operates', 'correctly', 'in', 'this', 'case', ')', 'Now', 'suppose', 'that', 'the', 'algorithm', 'works', 'correctly', 'on', 'all', 'connected', 'graphs', 'with', 'A', '—', 'i', 'on', 'fewer', 'edges', ']', 'Consider', 'applying', 'the', 'algorithm', ')', 'to', 'a', 'connected', 'graph', 'G', 'with', 'E', 'edges', '.', 'Each', 'edge', 'placed', 'on', 'tthe', 'stack', '’', 'ofiedges|', 'is', 'eventually', 'removed', 'and', 'added', 'to', 'a', 'component', 'since', 'everything', 'on', 'the', 'edge', 'stack', '!', 'is', 'removed', 'whenever', 'the', 'search', 'returns', 'to', 'the', 'root', 'of', 'the', 'palm', 'tree', 'of', 'G', '!', 'Consider', 'tthe', 'situation', 'when', 'the', 'first', 'component', 'G', \"'\", 'jis', 'formed', '!', 'Suppose', 'that', 'this', 'component', 'does', 'not', 'include', 'all', 'the', 'edges', 'of', 'G', '!', 'Then', 'the', 'vertex', 'vo', 'currently', 'being', 'examined', 'is', 'an', 'articulation', 'point', 'ofthe', 'graph', 'and', 'separates', 'the', 'edges', 'in', 'the', 'component', 'from', 'the', 'other', 'edges', 'in', 'the', 'Consider', 'only', 'the', 'set', 'ofi', 'edges', 'in', 'the', 'component', ']', 'If', 'BICONNECT', '(', 'wu', ',', '0', ')', 'is', 'executed', ']', 'using', 'the', 'graph', 'G/as', 'data', ',', 'the', 'steps', 'taken', 'by', 'the', 'algorithm', 'are', 'the', 'same', 'as', 'those', 'taken', 'during', 'the', 'analysis', 'of', 'the', 'edges', 'of', 'G', '’', 'when', 'the', 'datal', 'consists', 'of', 'the', 'entire', 'graph', 'G', ')', 'Since', 'G', '!', 'contains', 'fewer', 'edges', 'than', 'G', ')', 'the', 'algorithm', ')', 'operates', 'correctly', 'on', 'G', \"'\", 'and', 'G', \"'\", 'must', 'be', 'biconnected', ')', 'Ifi', 'we', 'delete', 'the', 'edges', 'of', 'G', '’', 'from', 'G', ']', 'we', 'get', 'another', 'subgraph|', 'G', '”', 'with', 'fewer', 'edges', 'than', 'G', 'since', 'G', '!', 'is', 'not', 'empty', ']', 'The', 'the', 'algorithm', 'on', 'G', 'is', 'simply', 'a', 'composite', 'of', 'its', 'behavior', 'on', 'G', '’', 'and', 'on', 'G', \"''\", ';', 'thus', 'the', 'algorithm', 'must', 'operate', 'correctly', 'on', 'G.', 'Now', 'suppose', 'that', '!', 'only', 'one', 'Component', 'is', 'found', '!', 'We', 'want', 'to', 'show', 'that', 'in', 'this', 'case', 'G', 'is', 'biconnected', '!', 'Suppose', 'that', 'G', 'is', 'not', 'biconnected', '!', 'Then', 'Gi', 'has', 'an', 'articulation', 'point', 'a', ')', 'By', 'Lemma', '5', '}', 'LOWPT', '(', 'v', ')', '2', 'a', '@', 'for', 'some', 'son', 'v', 'of', 'a', ')', 'But', 'the', 'articulation', 'point', 'test', 'in', 'the', 'program', 'will', 'succeed', 'when', 'the', 'edge', '(', 'aJ', ')', 'is', 'examined', ',', 'and', 'more', 'than', 'one', 'biconnected', 'component', 'will', 'be', 'generated', '!', 'This', 'contradiction', 'shows', 'that', 'G', 'is', 'biconnected', ']', 'and', 'the', 'algorithm', 'works', 'correctly', 'the', 'biconnectivity', 'algorithm', 'gives', 'the', 'correct', 'components', 'When', 'applied', 'to', 'any', 'connected', 'graph', ')', 'and', 'hence', 'when', 'applied', 'to', 'any', '4.', 'shows', 'how', 'useful', 'depth-first', '!', 'search', 'can', 'be', 'when', 'applied', 'to', 'undirected', 'graphs', '}', 'However', ']', 'when', 'a', 'directed', 'graph', 'iis', 'searched', 'inl', 'a', 'depth-first', ']', 'manner', ',', 'a', 'simple', 'palm', 'tree', 'structure', 'does', 'not', 'result', ']', 'because', 'the', 'direction', 'of', 'search', 'on', 'each', 'edge', 'is', 'fixed', '!', '[', 'The', 'more', 'complicated', 'structure', 'which', 'results', 'in', '’', 'this', 'case', 'is', 'Still', 'simple', 'enough', 'to', 'prove', 'useful', 'in', ')', 'at', 'least', 'one', 'application', '!', 'DEFINITION', '4', ']', 'Let', 'Gi', 'be', 'a', 'directed', 'graph', '!', 'Suppose', 'that', 'for', 'each', 'pair', 'ofivertices', 'v', ',', 'w', 'ini', 'G|', 'there', 'exist', 'paths', 'p', ',', ':', 'v', '3', 'w', 'and', 'p', ',', ':w', '>', 'm', 'Then', 'G', 'is', 'said', 'to', 'be', 'strongly', 'connected', ']', 'LEMMA', '9', ')', 'Let', 'G', '=', '(', '¥', ';', '&', ')', 'be', 'a', 'directed', '\\\\graph|', 'We', 'may', 'define', 'an', 'equivalence', 'relation', 'on', 'the', 'Set', 'of|vertices', 'as|follows', ';', 'two', 'vertices', 'uv', 'and', 'w', 'are', 'equivalent', 'if', 'there', 'is', '@', 'closed', '[', 'path', 'p', ':', 'v', '%', 'v', 'which', 'contains', 'w', ':', 'Let', 'the', 'distinct', 'equivalence', 'classes', 'under', 'this', 'relation', 'bé', '¥', ';', ',', '1', 'Si', 'S', 'nj', 'Let', 'G', ']', '=', '(', 'V', ';', '}', '&', ')', ']', 'where', '6', '}', '=', '{', '(', 'v', ',', 'we', 'élv', ',', 'we', 'Vj', '}', '.', 'Then', '}', '(', 'ii', ')', 'No', 'G', ';', 'is', 'a', 'proper', 'subgraph', 'bf\\\\a', 'strongly', 'Connected', 'subgraph', 'of', ')', '.', 'The', 'subgraphs', 'G', ';', 'are', 'called', 'the', 'strongly', 'connected', 'components', 'of', 'Gi', '!', 'connected', 'ofl', 'a', 'directed', 'graph', ']', 'This', 'problem', 'is', 'related', 'to', 'the', 'problem', 'of', 'determining', 'the', 'ergodic', 'subchains', 'and', 'transient', 'states', 'of', 'a', 'Markov', 'chain', '!', 'Fox', 'and', 'Landy', '[', '1', ']', 'give', 'an', 'slgorithny', 'fod', 'folving', 'thd', 'lated', 'problem', '}', 'Purdon', '’', '(', '13', ')', 'ad', 'Wunra', '(', '10', ')', 'present', 'virtually', 'identical', 'methods', 'for', 'solving', 'the', 'former', 'problem', '!', 'These', 'algorithms', 'use', 'depth-first', '!', 'Search', ')', 'Purdom', 'claims', 'a', 'time', 'bound', 'of', 'kV', '’', 'for', 'his', 'algorithm', '}', 'Munro', 'claims', 'kmax', '(', 'EjV', 'log', 'V', ')', '}', 'where', 'the', 'graph', 'has', 'Vi', 'vertices', 'and', 'E', 'edges', '!', 'Their', 'algorithm', 'attempts', 'to', 'construct', 'a', 'cycle', 'by', 'starting', 'from', 'a', 'point', 'and', 'beginning', 'a', 'depth-first', 'search', ')', 'When', 'a', 'cycle', 'is', 'found', ',', 'the', 'vertices', 'on', 'the', 'cycle', 'are', 'marked', 'as', 'being', 'in', 'the', 'same', 'Strongly', 'connected', 'component', 'fnd', 'the', 'process', 'is', 'repeated', ',', 'The', 'algorithm', 'has', 'the', 'disadvantage', 'that', 'two', 'small', 'strongly', 'connected', 'components', 'may', ',', 'be', 'collapsed|', 'into', 'a', 'bigger', 'one', ';', 'the', 'resultant', 'extral', 'work', 'in', '’', 'relabeling', 'may', 'contribute', 'V', '?', 'steps', 'using', 'a', 'simple', 'approach', ']', 'on', 'Vlog', 'V/', 'steps', \"if'a\", 'more', 'sophisti-', 'cated', 'approach', 'is', 'used', '(', 'see', 'Munro', '[', '10', ']', ')', '.', 'In', 'fact', ',', 'the', 'time', 'bound', 'may', 'be', 'reduced', 'further', 'ifian', 'efficient', 'list', 'merging', 'algorithm', '!', '[', '9', ']', 'is', 'used', ')', 'However', ']', 'a', 'more', 'careful', 'study', 'ofi', 'what', '@', 'depth-first', 'search', 'does', 'to', 'a', 'directed', 'graph', 'reveals', 'that', 'an', 'O', '(', 'V|', 'E', ')', 'algorithm', 'which', 'requires', 'na', 'merging', 'oficomponents', 'may', 'be', 'devised', '.', 'Consider', 'what', 'happens', 'when', 'a', 'depth-first', 'search', 'is', 'performed', 'on', 'a', 'directed', 'graph', 'G', ')', 'The', 'set', 'of', ')', 'edges', 'which', 'lead', 'fo', 'a', 'new', 'vertex', 'when', 'traversed', 'during', 'the', 'search', 'form', 'a', 'free', ']', 'The', 'other', '’', 'edges', 'fall', 'into', 'three', 'classes', '!', 'Some', 'are', 'edges', 'running', 'from', 'ancestors', 'to', 'descendants', 'in', '!', 'the', 'tree', ')', 'These', 'edges', 'may', 'be', 'ignored', ']', 'because', 'they', 'do', 'not', 'affect', 'the', 'strongly', 'connected', 'components', 'of', '!', 'G', ']', 'Some', 'edges', 'run', 'from', 'descendants', 'to', 'ancestors', 'in', 'the', 'tree', 'j', 'these', 'we', 'may', 'calll', 'fronds', 'as', 'above', '!', 'Other', 'edges', 'run', 'from', 'one', 'subtree', 'to', 'another', 'in', 'the', 'tree', ')', 'These', 'we', 'call', 'cross-links', ':', 'It', 'is', 'easy', 'to', 'verify', 'that', 'ifithe', 'vertices', 'of', 'the', 'tree', 'are', 'numbered', 'in', 'the', 'order', 'they', 'are', 'reached', 'during', 'the', 'search', ']', 'a', 'cross-link', '!', '(', 'v|\\\\w', ')', 'always', 'has', 'NUMBER', '(', 'v', ')', '>', 'NUMBER', '(', 'w', ')', '.', 'We', 'shall', 'denote', 'tree', 'edges', 'by', 'v', '=', 'wy', ',', 'and', 'fronds', 'and', 'cross-links', 'by', 'u-—', 'mw', ',', 'Suppose', 'G', 'is', 'a', 'directed', 'graph', ',', 'to', 'which', 'a', 'depth-first', 'Search', 'algorithm', 'is', 'applied', 'repeatedly', 'until', 'all', 'the', 'edges', 'are', 'explored', ',', 'The', 'process', 'iwill', 'create', 'a', 'set', 'ofi', 'frees', 'which', 'contain', 'all', 'the', 'vertices', 'of|', 'G', ')', 'called', 'the', 'spanning', 'forest', 'Fi', 'of', 'G', ')', 'and', 'sets', 'ofl', 'fronds', 'and', 'cross-links', ']', '(', 'Other', 'edges', 'are', 'thrown', 'away', '.', ')', 'Al', 'directed', 'graph', 'consisting', 'ofa', 'Spanning', 'forest', 'and', 'sets', 'ofifronds', 'and', 'cross-links', 'is', 'called', 'a', '[', 'jungle', ']', 'Suppose', 'the', 'vertices', 'are', 'numbered', 'in', 'the', 'order', '[', 'they', 'are', 'reached', 'during', 'the', 'search', 'and', 'that', 'we', 'refer', 'to', 'vertices', 'by', 'their', 'number', ']', 'Then', 'we', 'have', 'the', 'following', 'results', '!', 'Lemma', '10', ')', 'Let', 'v', 'and', 'w', 'be', 'vertices', 'in', 'G', 'which', 'lie', 'in', 'the', 'same', 'strongly', 'connected', 'component', ')', 'Let', 'F\\\\', 'be', 'a', 'spanning|', 'forest', 'of', 'G', 'generated', 'by', 'repeated', 'depth-first', 'search', '.', 'Then', 'v', 'and', 'w', 'have', 'a', 'common', 'ancestor', 'in', 'F', ')', 'Further', ']', 'if\\\\u', 'is', 'the', 'highest', 'numbered', 'common', 'ancestor', 'of\\\\p', 'and', 'wy', 'then', 'uw', 'lies', 'in', 'the', 'same', 'strongly', 'connected', 'Component', 'as', 'v', 'and', 'w.', 'Proof', '|', 'Without', 'loss', 'of', 'generality', 'we', 'may', 'assume', 'v', 'S', 'wi', 'Let', 'p', 'be', 'a', 'path', 'from', 'v', 'to', 'w', 'inl', 'G', '!', 'Let', '(', 'f', ')', 'with', 'root', 'u', 'be', 'the', 'smallest', 'subtree', 'ofia', 'tree', 'in', 'Fi', 'containing', 'all', 'the', 'vertices', 'in', '!', 'p', ')', 'There', 'must', 'be', 'such', 'a', 'free', ']', 'since', 'p', 'can', 'pass', 'from', 'one', 'tree', 'in', 'F', 'to', 'another', 'tree', 'with', 'smaller', 'numbered', 'Vertices', 'but', 'p', 'can', 'never', 'lead', 'fo', 'a', 'tree', 'with', 'larger', 'numbered', 'Wertices|', 'Ifip', 'were', 'contained', 'inl', 'fwo', 'on', 'more', 'trees', 'of', ')', 'F', ')', 'it', 'could', 'not', 'end', 'at', 'wj', 'since', 'o', 'S', 'w', ')', 'Thus', '(', 'I', ')', 'exists', ']', 'and', 'v', 'and', 'w', 'have', 'a', 'common', 'ancestor', 'in', 'F', ')', 'In', 'fact', ']', 'p', 'must', 'pass', 'through', 'vertexi', 'uw', ')', 'by', 'a', 'proof|similar', 'to', 'the', 'proof|', 'of', 'Lemma', '4', ')', 'and', 'uj', '7', ')', 'must', 'all', 'be', 'in', 'the', 'same', 'strongly', 'connected', 'component', ')', 'This', 'gives', 'the', 'lemma', '!', 'Coro.ary', '[', '1', ')', 'Let', 'C', 'be', \"a'strongly\", 'connected', 'component', 'in', 'G', ')', '(', 'Then', 'the', 'vertices', 'of', '|\\\\C', 'define', 'a', 'subtree', 'of\\\\a', 'tree', 'in', 'F', '}', 'the', 'spanning|', 'forest', 'of', '|G', '!', 'is', 'called', 'the', 'root', 'of|the', 'strongly', 'connected', 'component', 'C', ')', 'The', 'problem', ']', 'of', '!', 'finding', 'the', 'strongly', 'connected', 'components', 'ofl', 'a', 'graph', 'G', 'thus', 'reduces', 'to', 'the', 'problem', 'of', 'finding', 'the', 'roots', 'ofithe', 'strongly', 'connected', 'com-', 'directed', 'graph', 'reduces', 'to', 'the', 'problem', 'of', '!', 'finding', 'the', 'articulation', 'points', 'of', 'the', 'graph', ']', 'We', 'can', 'construct', 'a', 'simple', 'test', 'fo', 'determine', 'ifi', 'a', '‘', 'vertex', 'is', 'the', 'root', 'ofia', 'strongly', 'connected', 'component', ')', 'Let', 'LOWLINK', '(', 'v', ')', '=', 'mini', '(', '{', 'v', '}', 'U', '{', 'wip', '5-3', 'w', '&', 'duu', 'Ss', 'v', '&', 'uSsw', '&', 'uandw', 'are', 'in', 'the', 'same', 'strongly', 'connected', 'component', 'ofiG', ')', '}', ')', ':', 'That', 'is', ';', 'LOWLINIK', '(', 'v', ')', 'is', 'the', 'smallest', 'vertex', 'which', 'is', 'in', 'the', 'same', 'component', 'as', 'o', 'and', 'is', 'reachable', 'by', 'traversing', 'zero', 'on', 'more', 'tree', 'arcs', 'followed', 'by', 'at', 'most', 'one', 'LemMaA', '12', ')', 'Let', 'G', 'be', 'a', 'directed', 'graph', 'with', 'LOWLINK', 'defined', 'as', 'above', 'relative', 'to', 'some', 'spanning', 'forest', 'F', 'of|G', 'generated', 'by', 'depth-first', 'search', ')', 'Then', 'vu', 'is', 'the', 'root', 'of', 'some', 'strongly', 'connected', 'component', 'of', 'G', 'if', ')', 'and', 'only', 'if', ',', 'LOWLINK', '(', 'v', ')', '=', 'v1', 'Proof', ',', 'Obviously', ',', 'if', 'v', 'is', 'the', 'root', \"of'a\", 'strongly', 'connected', 'component', 'C', 'of', 'G', ']', 'then', 'LOWLINK', '(', 'v', ')', '=', '»', ',', 'since', 'iff', 'LOWLINK', '(', 'v', ')', '&', 'pj', 'some', 'proper', 'ancestor', 'of', '!', 'o', 'would', 'be', 'inl', 'C', 'and', 'v', 'could', 'not', 'be', 'the', 'root', 'of', 'C', ')', 'Consider', 'the', 'converse', ')', 'Suppose', 'uw', 'is', 'the', 'root', 'ofa', 'strongly', 'connected', 'com', ';', 'ponent', 'C', 'ofiG', ']', 'and', 'v', 'is', 'a', 'vertex', 'in', 'C', 'different', 'from', 'm', 'There', 'must', 'be', 'al', 'path', 'p', ':', 'o', '5', 'Consider', 'the', 'first', 'edge', 'on', 'this', 'path|', 'which', 'leads', 'fo', 'a', 'Vertex', 'w', 'not', 'in', 'the', 'subtree', 'T', ',', '|', 'This', 'edge', 'is', 'either', 'a', 'vine', 'on', 'a', 'cross-link', ')', 'and', 'we', 'must', 'have', 'LOWLINK', '(', 'v', ')', 'S', 'w', 'Ki', 'vj', 'since', 'the', 'highest', 'numbered', 'common', 'ancestor', 'ofiv', 'and', 'w', 'is', 'in', 'C', ']', 'Figure', '3', 'shows', 'a', 'directed', 'graph', ']', 'its', 'LOWLINK', ')', 'values', ')', 'and', 'its', 'strongly', 'connected', 'Components', ']', 'LOWLINK', 'may', 'be', 'calculated', 'using', 'depth-first', 'search', '!', '157', 'An', 'algorithm', 'for', 'computing', 'the', 'Strongly', 'connected', 'components', 'of', 'a', 'directed', 'graph', 'in', 'O', '(', 'V', ']', 'E', ')', 'time', 'may', 'be', 'based', 'on', 'such', 'a', 'calculation', '!', 'An', 'implementation', 'of', 'such', 'an', 'algorithm', 'is', 'presented', 'below', '!', 'The', 'points', 'which', 'have', 'been', 'reached', 'during', 'the', 'search', 'but', 'which', 'have', 'not', 'yet', 'been', 'placed', 'in', 'a', 'component', 'are', 'stored', 'on', 'a', 'stack', ']', 'This', 'stack', 'is', 'analogous', 'to', 'the', 'stack', '’', 'of', 'edges', 'used', 'by', 'the', 'biconnectivity', 'INTEGER', '7', '}', '(', '=', 'NUMBER', '(', 'v', ')', '[', '=i', ':', '=i+4', '13', 'put', 'vo', 'on', 'Stack', '’', 'of\\\\points', '|', 'FOR', 'w', 'in', 'the', 'adjacency', 'list', 'ofin', 'DO', 'BEGIN', '[', 'F', ')', 'w', 'is', 'not', 'yet', 'numbered', 'THEN', 'BEGIN', 'comment', '(', 'vj', 'w', ')', 'is', 'a', 'tree', 'arc', ';', 'LOWLINK', '(', 'v', ')', '<', '=', 'min', '(', 'LOWLINK', '(', '2', ')', ',', 'LOWLINK', '(', 'w', ')', ')', ';', 'ELSE', 'IF', 'NUMBER', '(', 'w', ')', '<', 'NUMBER', '(', 'v', ')', 'DO', 'BEGIN', 'comment', '(', 'vw', ')', 'is', 'a', 'frond', 'on', 'cross-link', '}', 'ifm', 'is', 'on', 'stack', '’', 'of', 'points', 'THEN', 'LOWLINK', '(', 'v', ')', '=', 'min', '(', 'LOWLINK', '(', 'v', ')', ',', 'END', ';', '[', 'f', '(', 'LOWLINK', '(', 'v', ')', '=', 'NUMBER', '(', 'v', ')', ')', 'THEN', 'BEGIN', 'comment', 'tz', 'is', 'the', 'roof', 'of', 'a', 'Component', '}', 'start', 'new', 'strongly', 'connected', 'component', ';', 'W', 'HIVE', 'w', 'on', 'top', 'of', 'point', 'stack', '!', 'satisfies', 'NUMBER', '(', 'w', ')', '2', 'NUMBER', '(', 'v', ')', 'DO', 'delete', 'mw', 'from', 'point', 'stack', 'and', 'put', 'w', 'in', 'current', 'component', ';', 'END', ';', 'empty', 'stack', 'of', '!', 'points', ';', 'FOR', 'wa', 'vertex', 'IF\\\\w', 'is', 'not', 'yet', 'numbered', 'THEN', 'STRONGCONNECT', '(', '(', 'w', ')', ';', 'THEOREM', '13', '!', 'The', 'algorithm', 'for\\\\finding', 'strongly', 'connected', 'components', 'requires', 'O', '(', 'V', '}', 'E', ')', 'space', 'and', 'time', ')', 'Proof', ']', 'The', 'algorithm', 'Clearly', 'requires', 'space', 'bounded', 'by|', 'k', ',', 'V\\\\', '#', 'kB', '#', 'ks', ',', 'for', 'some', 'constants', 'k', ',', '|k', ',', 'J', 'and', 'k', ',', '/', '(', 'The', 'algorithm', 'is', 'an', 'elaboration', 'of', 'the', 'depth-', 'first', 'Search', 'procedure', 'DFS', ']', 'modified', 'to', 'apply', 'to', 'directed', 'graphs', ')', 'During', 'the', 'search', ']', 'LOWLINK', 'values', 'are', 'calculated', ']', 'each', 'point', 'is', 'placed', 'on', 'the', 'stack', 'of', '6', \"''\", '[', '6', ')', '8', '\\\\', 'S', '5', '_', '\\\\', '/', '‘', ',', '(', '7', '(', '4', ')', '8', '(', 'I', ')', '\\\\', '!', '|', '4C3', ')', '_——', '7', '4', '3', '~L', '/', '3', \"''\", '(', '3', ')', '/', '/', '20', '/', '/', '2', '/', '/', 'CJ', '°', '5', '7', '8', '2', '3', 'Fic', '!', '3', ']', 'A', 'graph', 'and', 'its', 'strongly', 'connected', 'components', '(', 'b', ')', 'Yungle', 'generated', 'by', 'depth-first', 'search', 'with', 'LOWLINK', 'balues', 'in', '|', ']', '|', ']', 'roots', 'of|', 'components', 'marked', 'with', '®', '(', 'c', ')', 'Strongly', 'connected', 'components', 'points', 'once', ')', 'and', 'each', 'point', 'is', 'removed', 'from', 'tthe', 'stack', '!', 'of', 'points', 'once', ':', 'Testing|', 'to', 'see', 'ifla', 'vertex', 'is', 'on', 'the', 'point', 'stack', 'can', 'be', 'done', 'in', 'a', 'fixed', 'time', 'ifia', 'Boolean', 'array', ',', 'is', 'kept', 'which', 'answers', 'this', 'question', 'for', 'each', 'vertex', ')', '[', 'he', 'amount', 'of', 'extra', 'time', 'these', 'operations', 'is', 'linear', 'in', 'V|', 'E', '!', 'Thus', 'STRONGCONNECT', 'has', 'a', '@', 'time', 'bound', 'linear', 'in', 'Vand', 'E', ')', 'THEOREM', '14', '!', 'The', 'algorithm', 'for', '|finding|', 'strongly', 'connected', 'components', 'works', 'correctly', 'on', 'any', 'directed', 'graph', 'G', '!', 'prove', 'that', 'LOWLINK', '(', 'v', ')', 'is', 'correct', ')', 'Suppose-as', 'the', 'induction', 'hypothesis', 'that', 'for', 'all', 'vertices', 'p', 'Such', 'thal', 'v0', 'is', 'a', 'proper', 'descendant', 'of', 'vertex', 'Kk', 'on', 'v', '&', 'k', ']', 'LOWLINK', '(', 'v', ')', 'is', 'computed', ')', 'correctly', ']', 'This', 'means', 'that', 'the', 'test', 'to', 'determine', 'if\\\\v', 'is', 'the', 'root', 'ofa', 'component', 'is', 'performed', 'correctly', 'for', 'all', 'such', 'vertices', 'vj', 'The', 'reader', 'may', 'verify', 'that', 'this', 'somewhaf', 'strange', 'induction', 'hypothesis', 'Corresponds', 'to', 'Considering', 'vertices', 'in', 'thé', 'order', 'they', 'are', 'examined', 'for', 'the', 'last', 'time', 'during', 'the', 'depth-first', 'search', 'process', ',', 'Consider', 'vertex', 'v', '=', 'k', ')', 'Let', 'v', '!', 'wy', 'and', 'let', 'w', ',', '--', 'w3', 'be', 'a', 'Wine', 'of', 'cross-link', 'such', 'that', 'wz', 'K', 'wi', 'lfivertices', 'v', 'and', 'w', 'have', 'no', 'common', 'ancestor', ',', 'then', 'before', 'vertex', 'v', 'is', 'reached', 'during', 'the', 'search|', 'vertex', 'w3', 'must', 'have', 'been', 'removed', 'from', 'thle', 'stack', 'of', 'points', 'and', '[', 'placed', 'ini', 'a', 'component', ']', '(', 'The', 'smallest', 'numbered', 'ancestor', 'of', 'vertex', 'w3', 'must', 'be', 'a', 'component', 'root', '.', ')', 'Thus', 'edge', 'wy', '==', 'w', 'does', 'not', 'enfer', 'into', 'the', 'calculation', 'of', 'LOWLINK', '(', 'v', ')', '|', 'Otherwise', ']', 'let', 'a', 'be', 'the', 'highest', 'common', 'ancestor', 'of', '!', 'and', 'w3', ',', 'Vertex', 'vu', 'is', 'also', 'the', 'highest', 'common', 'ancestor', 'of|', 'wy', 'and', 'w', '2', ',', 'Ifa', 'is', 'not', 'in', 'the', 'same', 'strongly', 'cons', 'nected', 'component', '_as', 'w2j', 'then', 'there', 'must', 'be', 'a', 'strongly', 'connected', 'component', 'root', 'on', 'the', 'tree', 'path', 'u', '>', 'w', ',', '.', 'Since', 'wz', '<', '0', ',', 'this', 'root', 'was', 'discovered', 'and', 'w3', 'was', 'removed', 'from', 'the', 'Stack', '’', 'of', 'points', 'and', '{', 'placed', 'in', 'a', 'component', 'before', 'the', 'edge', 'w', ',', '-—', 'wh', 'is', 'traversed', 'during', 'the', 'search', ']', 'Thus', 'w', ',', '-—', 'w', 'will', 'not', 'enter', 'into', 'the', 'calculation', 'of', 'LOWLINK', '(', '2', ')', ']', '(', 'This', 'can', 'nly', 'happen', 'if', 'w', ';', '-—', 'wg', 'is', 'a', 'cross-link', '.', ')', 'On', 'the', 'other', 'hand', '}', 'ifja', 'is', 'in', 'the', 'same', 'strongly', 'connected', 'component', '_as', 'w', ',', ',', 'there', 'is', 'no', 'Component', 'root', 'r', '—', '=', 'u', 'on', 'the', 'branch', 'u', '4', 'w', ',', ',', 'and', 'v-=', 'w3', 'will', 'be', 'used', 'fo', 'and', 'LOWLINK', '(', 'v', ')', '}', 'as', 'desired', ']', 'LOW', ',', 'LINK', '(', 'v', ')', 'is', 'calculated', 'correctly', ']', 'and', 'by', 'induction', 'LOWLINK', 'is', 'calculated', 'cor', ';', 'rectly', 'for', 'all', 'vertices', '!', 'Since', 'the', 'algorithm', 'correctly', 'calculates', 'LOWLINK\\\\', 'it', 'correctly', 'identifies', 'the', 'roots', 'of|', 'the', 'strongly', 'connected', 'Components', ']', 'If', 'such', 'a', 'roof', 'w', 'is', 'found', ';', 'the', 'corresponding', 'component', 'contains', 'all', 'the', 'descendants', 'of', 'uw', 'which', 'are', 'on', 'the', 'Stack', 'of', 'points', 'when', 'u', 'is', 'discovered', '!', 'These', 'vertices', 'are', 'all', 'on', 'top', 'of', 'the', 'stack', 'ofl', 'al', '5', '.', 'Further', 'applications|', 'We', 'have', 'seen', 'how', 'the', 'depth-first', '!', 'search', 'method', 'may', ',', 'be', 'used', 'in', 'the', 'construction', 'of', 'very', 'efficient', 'graph', 'algorithms', ']', 'The', 'fwo', 'algorithms', 'presented', 'here', 'are', 'in', 'fact', 'optimal', 'to', 'within', '!', 'a', 'constant', 'factor', ']', 'since', 'every', 'edge', 'and', 'vertex', '!', 'ofa', 'graph', 'must', 'be', 'examined', 'to', 'determine', 'a', 'Solution', 'to', 'one', 'ofithe', 'problems', ']', 'a', 'biconnectivity|', 'and', 'strong', 'connectivity', 'fevealed', 'by', 'the', 'depth-first', 'Search', 'approach', 'is', 'striking', ']', 'The', 'possible', 'uses', 'off', 'depth-first', 'search', 'are', 'very', 'general', ']', 'and', 'are', 'certainly', 'not', 'limited', 'to', 'the', 'examples', 'presented', ']', 'for', 'in', '[', '8', ']', '!', 'An', 'algorithm', 'for', 'testing', 'the', 'planarity', 'of', 'a', 'graph', 'in', '!', 'O', '(', 'V', ')', 'time', '[', '15', ']', 'is', 'also', 'based', 'on', 'depth-first', 'search', ')', 'Combining', 'the', 'connectivity', 'algorithms', ']', 'the', 'planarity', 'algorithm', ',', '[', '7', ']', ',', 'we', 'may', 'construct', 'an', 'algorithm', 'to', 'fest', 'isomorphism', 'of', 'arbitrary', 'planar', 'graphs', 'in', 'O', '(', 'V', 'fog', 'V', ')', 'time', '[', '8', ']', ')', 'Depth-first', 'search', 'is', 'a', 'powerful', 'technique', 'with', 'many', 'applica', 'tions', ']', '[', '1', ']', 'BL', ')', 'FoxiAND', 'D', ')', 'M', ')', 'Lanpy', '}', 'An', 'algorithm|for', 'identifying', 'the', 'ergodic', 'subchains', 'and', 'transient', 'States', 'of\\\\a', 'stochastic', 'matrix', ')', 'Comm', ']', 'ACM', ')', '11', '(', '1968', ')', '}', 'pp', ';', '619-621', ')', '[', '2', ']', 'S', ')', 'WJ', 'GoLoMs', 'AND', 'L', '}', 'D', ')', 'BAuMERT', ',', 'Backtrack', 'programming', '}', 'J', ')', 'ACM', ']', '12', '(', '1965', ')', '}', 'pp', '516-524', '.', '[', '3', ']', 'F', ')', 'HARARY', ']', 'Graph', '[', 'Theory', ']', '(', 'Addison-Wesley', ')', 'Reading', ',', 'Mass', '.', '[', '969', '[', '4', ']', '1', ']', 'HOPCROFT', 'AND', 'Ri', '[', 'ARJAN', ']', 'Efficient', 'algorithms|for', 'graph', 'manipulation', ']', 'Tech', ']', 'Rep', ']', '207', ']', 'Com', ':', 'puter', 'Science', 'Department', ',', 'Stanford', 'University', ']', 'Stanford', ',', 'Calif.', ')', '[', '971', '[', '5', ']', '——', ',', '4', 'V3', 'algorithm', 'for', 'determining|', 'isomorphism', 'bf', '\\\\planar', 'graphs', ']', 'Information', 'Processing', 'Letters', ']', 'I', '(', '1971', ')', ';', 'pp', ':', '82-34', ')', '[', '6', ']', '——.', ',', 'Planarity', 'festing', 'iri', 'Vilog', 'Visteps', ';', 'Extended', 'abstract', ']', 'Tech', ']', 'Rep', ']', '201', ')', 'Computer', 'Science', 'Department', ',', 'Stanford', 'University', ',', 'Stanford', ']', 'Calif.', ')', '1971', '.', '[', '7', ']', 'Wi', 'HopcroFr', ']', 'An', 'NiJog', 'Nialgorithm', 'for', 'isomorphism', 'ofiplanad', 'friply', 'connected', 'graphs|', 'Tech', ']', 'Rep', '192', ']', 'Computer', 'Science', 'Department', ',', 'Stanford', 'University', ',', 'Stanford', ']', 'Calif.', ')', '[', '971', '[', '8', ']', '1', ']', 'Hopcrort', 'AND', 'RI', '[', 'ARJAN', 'Isomorphism', 'f\\\\planar', 'graphs', ',', '[', 'BM', 'Symposium', 'on', 'Complexity', 'of', 'Computer', 'Computations', ']', 'Yorktown', 'Heights', ',', 'N.', 'Y.', ',', 'March', ']', '[', '972', ']', 'to', 'be', 'published', 'by', 'Plenum', '[', '9', ']', 'SJ', 'Horcrort', 'AND', 'H', 'ULLMaN', ',', 'A', 'linear', 'list-merging|', 'algorithm', 'Tech', ']', 'Rep', ')', '71-111', ')', 'Cornell', 'Univer', 'sity', 'Computer', 'Science', 'Department', ']', 'Ithaca', ']', 'N.Y.', '[', '9711', '[', '10', ']', '1', ')', 'Munro', ',', 'Efficient', 'determination', 'of\\\\tha', 'strongly', 'connected', 'components', 'and', 'transitive', 'closure', 'of\\\\a', 'directed', 'graph', '}', 'Department', 'of|', 'Computer', 'Science', ']', 'University', 'of', 'Toronto', '}', '[', '971', '[', 'I1', ']', 'NJ', ']', 'Nitson', ']', 'Problem', 'Solving', '}', 'Methods', 'in', 'Artificial', '{', 'Intelligence', ',', 'McGraw-Hill', ',', 'New', 'York', ']', '(', '9711', '[', '12', ']', 'K', ')', 'Paton', '{', 'An', 'algorithm', 'for', 'the', 'blocks', 'and', 'cutnades', 'of\\\\a\\\\graph', '}', 'Comm', '!', 'ACM', ')', ',', '14', '(', '1971', ')', ';', 'pp', ';', '468=', '475', ')', '[', '13', ']', 'P', ']', 'W', ']', 'PURDOM', ')', 'A', 'iransitive', 'Closure', 'algorithm', ')', '(', 'Tech', ')', 'Rep', ']', '33', ']', 'Computer', 'Sciences', 'Department', ']', 'University', 'ofl', 'Wisconsin', ']', 'Madison', ',', '1968', ')', '[', '14', ']', 'R', ')', 'W.', 'Suey', ',', 'Implementation', 'and', 'analysis', 'oflefficient', 'graph', 'planarity', 'testing', 'algorithms', ']', 'Doctoral', 'Madison', ',', '1969', '.', '[', 'I5', ']', 'Rl', 'TaRIAN', ',', '[', 'dri', 'efficiend', '[', 'planarity', 'algorithm', ')', 'Tech', ']', 'Rep', ']', '244', ']', 'Computer', 'Science', 'Department', ']', 'Stanford', '(', 'University', ')', 'Stanford', ')', 'Calif.', ']', '[', '971', '.']\n"
          ],
          "name": "stdout"
        }
      ]
    },
    {
      "cell_type": "code",
      "metadata": {
        "colab": {
          "base_uri": "https://localhost:8080/"
        },
        "id": "Fse9XO0CiAD1",
        "outputId": "8c7029b7-2be1-4837-93e8-66e3efa8289b"
      },
      "source": [
        "# compute the frequency distribution \n",
        "mp_freqdist = FreqDist(words) \n",
        "mp_freqdist.most_common(25) # show the top 25 (word,frequency) pairs"
      ],
      "execution_count": null,
      "outputs": [
        {
          "output_type": "execute_result",
          "data": {
            "text/plain": [
              "[(')', 352),\n",
              " ('the', 277),\n",
              " (']', 209),\n",
              " ('(', 198),\n",
              " ('is', 187),\n",
              " ('a', 177),\n",
              " (',', 172),\n",
              " ('!', 138),\n",
              " ('of', 130),\n",
              " ('and', 129),\n",
              " ('w', 110),\n",
              " ('v', 103),\n",
              " ('in', 101),\n",
              " ('G', 90),\n",
              " ('[', 80),\n",
              " (';', 70),\n",
              " ('be', 68),\n",
              " ('graph', 67),\n",
              " ('to', 67),\n",
              " ('on', 60),\n",
              " ('}', 59),\n",
              " ('edges', 54),\n",
              " ('connected', 50),\n",
              " ('search', 49),\n",
              " ('The', 48)]"
            ]
          },
          "metadata": {
            "tags": []
          },
          "execution_count": 35
        }
      ]
    },
    {
      "cell_type": "code",
      "metadata": {
        "id": "LRpX-QFojyYD"
      },
      "source": [
        "# next steps: clean up capitalization, punctuation, get bigrams and trigrams, working with new datatypes\n",
        "# research approximate string matching\n",
        "# filter with dates as well\n"
      ],
      "execution_count": null,
      "outputs": []
    },
    {
      "cell_type": "markdown",
      "metadata": {
        "id": "kUYgufW38RGJ"
      },
      "source": [
        "# Clean data before calculating Frequencies"
      ]
    },
    {
      "cell_type": "code",
      "metadata": {
        "colab": {
          "base_uri": "https://localhost:8080/"
        },
        "id": "EtzgOBaB8UfT",
        "outputId": "79c09c28-ab8c-419e-cba6-28244d287f20"
      },
      "source": [
        "# remove capitalization\n",
        "\n",
        "updated_text = [word.lower() for word in words] \n",
        "print(updated_text[0:100])"
      ],
      "execution_count": null,
      "outputs": [
        {
          "output_type": "stream",
          "text": [
            "['siam', 'uj', ']', 'comput', '!', 'vol', '1', 'no', ')', '2', ']', 'june', '1972', 'robert', 'tarjant', 'abstract', ',', 'the', 'value', 'of', 'depth-first', 'search', 'on', '[', '``', 'backtracking/', '’', 'as', 'a', 'technique', 'for', 'solving', 'problems', 'is', 'illustrated', 'by|', 'two', 'examples', ']', 'an', 'improved', 'version', 'ofl', 'an', 'algorithm', 'for', 'finding', 'the', 'strongly', 'connected', 'components', 'ofl', 'a', 'directed', 'graph|', 'and', 'an', 'algorithm', 'for', 'finding', 'the', 'biconnected', 'components', 'of', 'an', 'un=', 'direct', 'graph', 'are', 'presented', ']', 'the', 'space', 'and', 'time', 'requirements', 'of', ')', 'both', 'algorithms', 'are', 'bounded', 'by', 'k', ',', 'v', '+', 'k', ',', 'b', '#', 'k', ';', 'for', 'some', 'constants', 'k', ',', ',k', ',']\n"
          ],
          "name": "stdout"
        }
      ]
    },
    {
      "cell_type": "code",
      "metadata": {
        "colab": {
          "base_uri": "https://localhost:8080/"
        },
        "id": "gTl1rOKH9ff-",
        "outputId": "aa89c3bf-ffb4-4665-9483-25ffc1a53558"
      },
      "source": [
        "# remove punctuation\n",
        "\n",
        "final_text = [x for x in updated_text if x.isalpha()]\n",
        "\n",
        "print(final_text[0:100])\n"
      ],
      "execution_count": null,
      "outputs": [
        {
          "output_type": "stream",
          "text": [
            "['siam', 'uj', 'comput', 'vol', 'no', 'june', 'robert', 'tarjant', 'abstract', 'the', 'value', 'of', 'search', 'on', 'as', 'a', 'technique', 'for', 'solving', 'problems', 'is', 'illustrated', 'two', 'examples', 'an', 'improved', 'version', 'ofl', 'an', 'algorithm', 'for', 'finding', 'the', 'strongly', 'connected', 'components', 'ofl', 'a', 'directed', 'and', 'an', 'algorithm', 'for', 'finding', 'the', 'biconnected', 'components', 'of', 'an', 'direct', 'graph', 'are', 'presented', 'the', 'space', 'and', 'time', 'requirements', 'of', 'both', 'algorithms', 'are', 'bounded', 'by', 'k', 'v', 'k', 'b', 'k', 'for', 'some', 'constants', 'k', 'where', 'vis', 'the', 'number', 'of', 'vertices', 'and', 'eis', 'the', 'number', 'ofl', 'edges', 'ofthe', 'graph', 'being', 'examined', 'introduction', 'consider', 'a', 'graph', 'g', 'consisting', 'a', 'sef', 'ofivertices', 'vw', 'and']\n"
          ],
          "name": "stdout"
        }
      ]
    },
    {
      "cell_type": "code",
      "metadata": {
        "colab": {
          "base_uri": "https://localhost:8080/"
        },
        "id": "xqgzMbIr-XkW",
        "outputId": "c083c94f-3522-40ae-837f-e760aebd68bc"
      },
      "source": [
        "# Check frequencies now\n",
        "\n",
        "mp_freqdist = FreqDist(final_text)  \n",
        "mp_freqdist.most_common(25)"
      ],
      "execution_count": null,
      "outputs": [
        {
          "output_type": "execute_result",
          "data": {
            "text/plain": [
              "[('the', 325),\n",
              " ('a', 187),\n",
              " ('is', 187),\n",
              " ('and', 133),\n",
              " ('of', 130),\n",
              " ('v', 114),\n",
              " ('w', 114),\n",
              " ('in', 105),\n",
              " ('g', 91),\n",
              " ('graph', 68),\n",
              " ('be', 68),\n",
              " ('to', 67),\n",
              " ('on', 61),\n",
              " ('search', 60),\n",
              " ('an', 54),\n",
              " ('edges', 54),\n",
              " ('connected', 51),\n",
              " ('vertex', 50),\n",
              " ('are', 48),\n",
              " ('by', 46),\n",
              " ('for', 43),\n",
              " ('algorithm', 43),\n",
              " ('vertices', 43),\n",
              " ('edge', 43),\n",
              " ('p', 43)]"
            ]
          },
          "metadata": {
            "tags": []
          },
          "execution_count": 39
        }
      ]
    },
    {
      "cell_type": "markdown",
      "metadata": {
        "id": "HoEnsVta_UFd"
      },
      "source": [
        "# Remove stopwords"
      ]
    },
    {
      "cell_type": "code",
      "metadata": {
        "colab": {
          "base_uri": "https://localhost:8080/"
        },
        "id": "rYzJ4n88_Tse",
        "outputId": "d85caad1-d5a2-41c5-8d8b-fbdf3fe0acb3"
      },
      "source": [
        "nltk.download('stopwords') \n",
        "from nltk.corpus import stopwords\n",
        "stop_words = stopwords.words('english')\n",
        "print(len(stop_words), \"stopwords:\", stop_words) # show the words nltk will remove as stopwords\n",
        "# print the length of our original text\n",
        "print('Length of original text:',len(final_text))\n",
        "print(final_text[0:100])"
      ],
      "execution_count": null,
      "outputs": [
        {
          "output_type": "stream",
          "text": [
            "[nltk_data] Downloading package stopwords to /root/nltk_data...\n",
            "[nltk_data]   Unzipping corpora/stopwords.zip.\n",
            "179 stopwords: ['i', 'me', 'my', 'myself', 'we', 'our', 'ours', 'ourselves', 'you', \"you're\", \"you've\", \"you'll\", \"you'd\", 'your', 'yours', 'yourself', 'yourselves', 'he', 'him', 'his', 'himself', 'she', \"she's\", 'her', 'hers', 'herself', 'it', \"it's\", 'its', 'itself', 'they', 'them', 'their', 'theirs', 'themselves', 'what', 'which', 'who', 'whom', 'this', 'that', \"that'll\", 'these', 'those', 'am', 'is', 'are', 'was', 'were', 'be', 'been', 'being', 'have', 'has', 'had', 'having', 'do', 'does', 'did', 'doing', 'a', 'an', 'the', 'and', 'but', 'if', 'or', 'because', 'as', 'until', 'while', 'of', 'at', 'by', 'for', 'with', 'about', 'against', 'between', 'into', 'through', 'during', 'before', 'after', 'above', 'below', 'to', 'from', 'up', 'down', 'in', 'out', 'on', 'off', 'over', 'under', 'again', 'further', 'then', 'once', 'here', 'there', 'when', 'where', 'why', 'how', 'all', 'any', 'both', 'each', 'few', 'more', 'most', 'other', 'some', 'such', 'no', 'nor', 'not', 'only', 'own', 'same', 'so', 'than', 'too', 'very', 's', 't', 'can', 'will', 'just', 'don', \"don't\", 'should', \"should've\", 'now', 'd', 'll', 'm', 'o', 're', 've', 'y', 'ain', 'aren', \"aren't\", 'couldn', \"couldn't\", 'didn', \"didn't\", 'doesn', \"doesn't\", 'hadn', \"hadn't\", 'hasn', \"hasn't\", 'haven', \"haven't\", 'isn', \"isn't\", 'ma', 'mightn', \"mightn't\", 'mustn', \"mustn't\", 'needn', \"needn't\", 'shan', \"shan't\", 'shouldn', \"shouldn't\", 'wasn', \"wasn't\", 'weren', \"weren't\", 'won', \"won't\", 'wouldn', \"wouldn't\"]\n",
            "Length of original text: 5618\n",
            "['siam', 'uj', 'comput', 'vol', 'no', 'june', 'robert', 'tarjant', 'abstract', 'the', 'value', 'of', 'search', 'on', 'as', 'a', 'technique', 'for', 'solving', 'problems', 'is', 'illustrated', 'two', 'examples', 'an', 'improved', 'version', 'ofl', 'an', 'algorithm', 'for', 'finding', 'the', 'strongly', 'connected', 'components', 'ofl', 'a', 'directed', 'and', 'an', 'algorithm', 'for', 'finding', 'the', 'biconnected', 'components', 'of', 'an', 'direct', 'graph', 'are', 'presented', 'the', 'space', 'and', 'time', 'requirements', 'of', 'both', 'algorithms', 'are', 'bounded', 'by', 'k', 'v', 'k', 'b', 'k', 'for', 'some', 'constants', 'k', 'where', 'vis', 'the', 'number', 'of', 'vertices', 'and', 'eis', 'the', 'number', 'ofl', 'edges', 'ofthe', 'graph', 'being', 'examined', 'introduction', 'consider', 'a', 'graph', 'g', 'consisting', 'a', 'sef', 'ofivertices', 'vw', 'and']\n"
          ],
          "name": "stdout"
        }
      ]
    },
    {
      "cell_type": "code",
      "metadata": {
        "colab": {
          "base_uri": "https://localhost:8080/"
        },
        "id": "Mk-qgPju_q_s",
        "outputId": "4011695d-b992-4a77-dd0a-661f105cf3a6"
      },
      "source": [
        "# remove the stopwords from the text\n",
        "final_text = [word for word in final_text if word not in stop_words] #another regex\n",
        "print(len(final_text), \"without stopwords\")\n",
        "\n",
        "print(final_text[1:100])"
      ],
      "execution_count": null,
      "outputs": [
        {
          "output_type": "stream",
          "text": [
            "3358 without stopwords\n",
            "['uj', 'comput', 'vol', 'june', 'robert', 'tarjant', 'abstract', 'value', 'search', 'technique', 'solving', 'problems', 'illustrated', 'two', 'examples', 'improved', 'version', 'ofl', 'algorithm', 'finding', 'strongly', 'connected', 'components', 'ofl', 'directed', 'algorithm', 'finding', 'biconnected', 'components', 'direct', 'graph', 'presented', 'space', 'time', 'requirements', 'algorithms', 'bounded', 'k', 'v', 'k', 'b', 'k', 'constants', 'k', 'vis', 'number', 'vertices', 'eis', 'number', 'ofl', 'edges', 'ofthe', 'graph', 'examined', 'introduction', 'consider', 'graph', 'g', 'consisting', 'sef', 'ofivertices', 'vw', 'set', 'ofl', 'edges', 'graphl', 'may', 'directed', 'edges', 'ordered', 'pairs', 'w', 'ofivertices', 'j', 'v', 'tail', 'w', 'head', 'edge', 'undirected', 'edges', 'unordered', 'pairs', 'vertices', 'also', 'fepresented', 'v', 'w', 'graphs', 'form', 'suitable', 'many', 'areas', 'chemistry', 'sociology', 'example', 'thus', 'important', 'economical']\n"
          ],
          "name": "stdout"
        }
      ]
    },
    {
      "cell_type": "code",
      "metadata": {
        "colab": {
          "base_uri": "https://localhost:8080/"
        },
        "id": "65aoPGsNEPBq",
        "outputId": "efc7de61-d3a5-453c-92ac-298d29f366a8"
      },
      "source": [
        "# Check frequencies now\n",
        "\n",
        "mp_freqdist = FreqDist(final_text)  \n",
        "mp_freqdist.most_common(25)"
      ],
      "execution_count": null,
      "outputs": [
        {
          "output_type": "execute_result",
          "data": {
            "text/plain": [
              "[('v', 114),\n",
              " ('w', 114),\n",
              " ('g', 91),\n",
              " ('graph', 68),\n",
              " ('search', 60),\n",
              " ('edges', 54),\n",
              " ('connected', 51),\n",
              " ('vertex', 50),\n",
              " ('algorithm', 43),\n",
              " ('vertices', 43),\n",
              " ('edge', 43),\n",
              " ('p', 43),\n",
              " ('tree', 43),\n",
              " ('let', 43),\n",
              " ('component', 39),\n",
              " ('directed', 31),\n",
              " ('strongly', 30),\n",
              " ('number', 30),\n",
              " ('u', 28),\n",
              " ('stack', 28),\n",
              " ('one', 27),\n",
              " ('components', 24),\n",
              " ('point', 24),\n",
              " ('numbered', 23),\n",
              " ('suppose', 22)]"
            ]
          },
          "metadata": {
            "tags": []
          },
          "execution_count": 42
        }
      ]
    }
  ]
}