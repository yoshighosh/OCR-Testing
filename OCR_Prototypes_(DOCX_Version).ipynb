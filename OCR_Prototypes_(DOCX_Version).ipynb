{
  "nbformat": 4,
  "nbformat_minor": 0,
  "metadata": {
    "colab": {
      "name": "OCR Prototypes (DOCX Version).ipynb",
      "provenance": [],
      "collapsed_sections": [],
      "mount_file_id": "18EIS1uZSfxinKkd2QRZ9uR2Dk1H0lFbK",
      "authorship_tag": "ABX9TyOjfUSFyx8tZwulNQZu0a8x",
      "include_colab_link": true
    },
    "kernelspec": {
      "display_name": "Python 3",
      "name": "python3"
    },
    "language_info": {
      "name": "python"
    }
  },
  "cells": [
    {
      "cell_type": "markdown",
      "metadata": {
        "id": "view-in-github",
        "colab_type": "text"
      },
      "source": [
        "<a href=\"https://colab.research.google.com/github/yoshighosh/OCR-Testing/blob/main/OCR_Prototypes_(DOCX_Version).ipynb\" target=\"_parent\"><img src=\"https://colab.research.google.com/assets/colab-badge.svg\" alt=\"Open In Colab\"/></a>"
      ]
    },
    {
      "cell_type": "markdown",
      "metadata": {
        "id": "nHOUYdDVXPhj"
      },
      "source": [
        "# Testing Tesseract OCR Models\n",
        "\n",
        "**Steps:**\n",
        "- Load in image file\n",
        "- Preprocess using OpenCV\n",
        "- "
      ]
    },
    {
      "cell_type": "markdown",
      "metadata": {
        "id": "ihFUO3U7FUp9"
      },
      "source": [
        "# Convert DOCX to text"
      ]
    },
    {
      "cell_type": "code",
      "metadata": {
        "colab": {
          "base_uri": "https://localhost:8080/"
        },
        "id": "cg6XGy6n6whU",
        "outputId": "369aecec-8aaa-47ca-dd57-640bbb3ad095"
      },
      "source": [
        "pip install python-docx\n"
      ],
      "execution_count": 6,
      "outputs": [
        {
          "output_type": "stream",
          "text": [
            "Collecting python-docx\n",
            "\u001b[?25l  Downloading https://files.pythonhosted.org/packages/8b/a0/52729ce4aa026f31b74cc877be1d11e4ddeaa361dc7aebec148171644b33/python-docx-0.8.11.tar.gz (5.6MB)\n",
            "\u001b[K     |████████████████████████████████| 5.6MB 27.0MB/s \n",
            "\u001b[?25hRequirement already satisfied: lxml>=2.3.2 in /usr/local/lib/python3.7/dist-packages (from python-docx) (4.2.6)\n",
            "Building wheels for collected packages: python-docx\n",
            "  Building wheel for python-docx (setup.py) ... \u001b[?25l\u001b[?25hdone\n",
            "  Created wheel for python-docx: filename=python_docx-0.8.11-cp37-none-any.whl size=184508 sha256=ee901caf90cde1b19d742107133900c2c9ca825e88b93b8f479cc02467e91396\n",
            "  Stored in directory: /root/.cache/pip/wheels/a6/90/f1/a7cb70b38633ae04e7fb963b1c70f63fd6fc01c075b8230adc\n",
            "Successfully built python-docx\n",
            "Installing collected packages: python-docx\n",
            "Successfully installed python-docx-0.8.11\n"
          ],
          "name": "stdout"
        }
      ]
    },
    {
      "cell_type": "code",
      "metadata": {
        "id": "6eBis73b6INO"
      },
      "source": [
        "import docx\n",
        "\n",
        "def getText(filename):\n",
        "    doc = docx.Document(filename)\n",
        "    fullText = []\n",
        "    for para in doc.paragraphs:\n",
        "        fullText.append(para.text)\n",
        "    return '\\n'.join(fullText)"
      ],
      "execution_count": 8,
      "outputs": []
    },
    {
      "cell_type": "code",
      "metadata": {
        "colab": {
          "base_uri": "https://localhost:8080/"
        },
        "id": "XMSK6FcL7Z5x",
        "outputId": "edb14daf-d9d8-453d-d398-da541f9cd750"
      },
      "source": [
        "text = getText('/content/drive/MyDrive/Aroshi_highSchool/SEAP vounteer/docx files/SampleResume.docx')\n",
        "\n",
        "print(text)"
      ],
      "execution_count": 10,
      "outputs": [
        {
          "output_type": "stream",
          "text": [
            "\n",
            "AROSHI GHOSH\n",
            "Ph: (408)-708-8064 |  | Portfolio: \n",
            "Git:  | Blog:   ______________________________________________________________________________\n",
            "\n",
            "OBJECTIVE\n",
            "Responsible, hardworking student with an excellent work ethic, proven leadership abilities, and  time management skills looking for exciting computing opportunities.\n",
            "\n",
            "RESEARCH\n",
            "\n",
            "AI4ALL Special Interest Group (SIG for Sustainability), San Jose, CA | 2020\n",
            "Project: Selected by the AI4ALL Alumni program. Focused on modeling water quality using the public “Indian Water Quality Data” dataset (includes historical data on pollution levels from various monitoring stations across India). Worked on pre-processing data and modelling the data using linear regression, regression tree, and bayesian ridge regression models. Evaluated them for error and accuracy Result: Wrote an academic paper (Link: )\n",
            "\n",
            "Naval Postgraduate School, Monterey, CA | 2020\n",
            "Project: Selected by the SEAP intern program. Worked on using the IBM and Oracle Blockchain Platform to create a system that tracks shipment details during transportation and aircraft maintenance log integrity. Result: Wrote an academic paper (Link: )\n",
            "\n",
            "AI4ALL UC Berkeley (BAIR Lab), Berkeley, CA | 2019\n",
            "Project:  Selected for the tuition-free outreach program. Created a system for disaster relief using Natural language Processing (NLP). Used binary classification with machine learning models (Logistic Regression, Neural Networks) to process and sort text messages.\n",
            "\n",
            "EDUCATION\n",
            "Leland High School, San Jose, CA | Expected graduation date: 2022 | UW GPA: 3.95; \n",
            "Classes: AP Biology, AP Statistics, AP Calculus AB, AP English Language, AP Seminar\n",
            "Monterey Peninsula Community College, Monterey, CA | June 2018 |GPA: 4.0\n",
            "Class: Introduction to Java (CS10A) for additional high school credits.\n",
            "Los Angeles Computing Circle (Outreach program at UCLA), LA, CA | June 2019 \n",
            "Selected through an application process for 1 month, tuition-free class at UCLA Engineering.\n",
            "\n",
            "SKILLS\n",
            "HTML, CSS, Python, Javascript, Java, Virtual Reality Game Development using Unity, Computer-Aided Design (CAD) using Solidworks, SQL, C++, Android game development, Web API and databases, Embedded systems, Control systems, Data Science, Neural Networks, Machine Learning, Blockchain\n",
            "\n",
            "AWARDS\n",
            "FIRST Robotics Dean’s list Finalist (2020-21)\n",
            "Princeton Prize in Race Relations, Certificate of Accomplishment (2021)\n",
            "Engineering Girl Essay Competition Finalist (2021)\n",
            "AI4ALL Impact Grant ($350) for outreach activities (2021)\n",
            "SWENext STEM in Action Award for community outreach (2021)\n",
            "Aspire IT grant ($6000) for founding outreach program AI Spectra (2020)  \n",
            "NCWIT Aspirations in Computing Bay Area Regional Affiliate \"Winner\" Award (2020)\n",
            "SWENext Community Award for cybersecurity poster competition (2020)\n",
            "NCWIT Aspirations in Computing National \"Certificate of distinction\" Award (2019)\n",
            "Coast Forensic League Speech Finalist. Advanced to State Qualifiers (2019, 2020)\n",
            "3rd place in Santa Clara University Speech Invitational (2019) \n",
            "Presidential Volunteer Service Award Gold Level (2018, 2020)\n",
            "Scholastic Art and Writing Competition \"Gold Key\" for artwork (2021)\n",
            "Scholastic Art and Writing Competition \"Gold Key\" for  artwork (2021)\n",
            "Scholastic Art and Writing Competition \"Silver Key\" for  artwork (2021)\n",
            "\n",
            "LEADERSHIP & EXTRA-CURRICULARS\n",
            "\n",
            "Founder, AI Spectra outreach program (aispectra.weebly.com) | Jan 2020 to current\n",
            "Outreach designed to help young women explore careers at the intersection of the sciences and humanities in the field of Artificial Intelligence and the diverse spectrum of its applications (art, music, environment, and fashion) through a series of structured, interactive workshops. Created online learning modules and videos to reach a virtual audience in partnership with non-profit organization LITAS for girls and Aspire IT.\n",
            "\n",
            "Youth Commissioner, City of San Jose, CA | August 2020 to current\n",
            "As the City-wide Youth Commissioner, drafted newsletters for San Jose’s youth and city officials, wrote policy recommendations for youth programs in the city budget, and ran various town hall meetings on the environment, digital divide, and sustainability.\n",
            "\n",
            "Youth Commissioner, Santa Clara Valley Water District, CA | August 2020 to current\n",
            "As the Chair for the Job/Mentoring Working Group, organized the end of the year Mentorship Fair for high school students in Santa Clara County. Reached out to various Valley Water staff to recruit speakers and mentors. Communicated with the Outreach working group to design and distribute registration forms and flyers.\n",
            "\n",
            "Captain, Quixilver Robotics Team FTC 8404 | 2017 to current\n",
            "Selected through an intensive tryout process and contributed extensively in mechanical, programming, outreach, marketing, and scouting activities over the last 4 years.\n",
            "\n",
            "Leadership:  Conducted strategy meetings and helped lead the team to two World Championships in a row. Communicated with other robotics teams to form finalist alliances at tournaments, as well as maintained ongoing relationships with teams for future scrimmages.\n",
            "\n",
            "Mechanical: CAD design, prototyping assemblies using SolidWorks, used power tools to create custom machine parts out of lexan and tin fleshing, electrical work including soldering and wire management.\n",
            "\n",
            "Programming: Maintained  to host scouting information from tournaments (rank teams by displaying key game elements, runs on Visual Studio, Azure Database, and Azure Docker and utilizes Python, SQL, Javascript, and HTML/CSS), teach JAVA to new members to ensure team sustainability, and create documentation for code including our new FoxTrot UI that allows autonomous programming.\n",
            "\n",
            "Outreach: Planned and organized Python, Java, Scratch and Lego Robotics Workshops at the Almaden Community Center. Planned bootcamps for rookie FTC teams. Contacted School District Officials to help start robotics teams in Low Socio-Economic Status (SES) schools within San Jose Unified District. Helped to run tryout challenges for 2018 - 2020 seasons to find new recruits. \n",
            "\n",
            "Marketing: Helped to reformat the engineering binder. Created various visuals and posters for tournaments to show progress throughout the season. Maintained team email, website, and other social media. Helped to write emails to various sponsors and companies. Advertised upcoming workshops, tryouts, fundraisers, and scrimmages through social media.\n",
            "\n",
            "Team awards\n",
            "2019: 1st Place Control Award at World Championships in Houston | 9th rank in World Championships\n",
            "2020: 14th rank in the World | 1st rank in California | Tournament Champions in NorCal Regionals | Qualified for World Championships in 2020 (Tournament cancelled due to coronavirus)\n",
            "\n",
            "Speaking engagements at conferences and workshops\n",
            "Climate Action Summit | Feb 2, 2020\n",
            "Selected by the AI4ALL organization as a key speaker at the Climate Action Summit, hosted at the Microsoft Reactor in San Francisco, CA, to explain how AI can help solve the Climate Crisis. Hosted a workshop to teach the basics of Artificial Intelligence and presented personal research on disaster relief. Participated in hackathon and worked with several designers and data scientists to pitch an app design to help change our view on trash, and to clean up the streets of our neighborhoods.\n",
            "\n",
            "New Reality Summit | May 23, 2020\n",
            "Hosted a breakout workshop in partnership with the New Reality Summit 2020. Presented on the basics of AI and creating decision tree models to classify Iris flowers.\n",
            "\n",
            "BitHacks Hackathon | June 22, 2020\n",
            "Presented a workshop on how AI can be used in various fields (Art, Music, Language) as one of the guest speakers.\n",
            "\n",
            "AI4ALL Panelist (June 30, 2020)\n",
            "Panelists at AI4ALL's University of Pennsylvania chapter virtual tech summer program. \n",
            "\n",
            "Technology Blogger (https://medium.com/student-spectator)\n",
            "Run an online magazine / blog on various issues that affect the youth population that includes issues from policy to gaming, art to technology.\n",
            "\n",
            "Intern, City of San Jose, CA | May 2020 to August 2020 \n",
            "Created policy recommendations to implement after school programs on ethnic studies to promote cultural and ethnic tolerance among the city’s youth. Recommendations were included in the official San Jose City Youth Commission work plan for 2020-21.\n",
            "\n",
            "Intern at Monterey Institute for Research in Astronomy (MIRA) | June 6 to Aug 9, 2018\n",
            "Volunteered 136 hours for astronomical research (scanning of Schmidt plates from Chicago and Chile, preparing models of stellar atmospheres for the chemical determination of stars, plotting variable star data taken with the MIRA telescope, and training a new volunteer on the exacting requirements for astronomical plate scanning).\n",
            "\n",
            "\n",
            "\n"
          ],
          "name": "stdout"
        }
      ]
    },
    {
      "cell_type": "markdown",
      "metadata": {
        "id": "eziBQFwrhTie"
      },
      "source": [
        "# Checking word frequencies\n",
        "- use NLTK word tokenize\n"
      ]
    },
    {
      "cell_type": "code",
      "metadata": {
        "colab": {
          "base_uri": "https://localhost:8080/"
        },
        "id": "uLfA91rlgkgH",
        "outputId": "18c8e998-1e5a-4e79-e27e-1088c00b3918"
      },
      "source": [
        "import nltk\n",
        "from nltk import word_tokenize\n",
        "nltk.download('punkt')\n",
        "\n",
        "from nltk import ngrams, FreqDist\n",
        "\n",
        "import pandas as pd\n",
        "import matplotlib.pyplot as plt\n",
        "import numpy as np"
      ],
      "execution_count": 11,
      "outputs": [
        {
          "output_type": "stream",
          "text": [
            "[nltk_data] Downloading package punkt to /root/nltk_data...\n",
            "[nltk_data]   Unzipping tokenizers/punkt.zip.\n"
          ],
          "name": "stdout"
        }
      ]
    },
    {
      "cell_type": "code",
      "metadata": {
        "colab": {
          "base_uri": "https://localhost:8080/"
        },
        "id": "4vYR4vNahjXN",
        "outputId": "c59005a9-266d-40ee-c683-e686c26ac7d9"
      },
      "source": [
        "words = word_tokenize(text)\n",
        "print(len(words), \"words:\", words[0:100])"
      ],
      "execution_count": 12,
      "outputs": [
        {
          "output_type": "stream",
          "text": [
            "1511 words: ['AROSHI', 'GHOSH', 'Ph', ':', '(', '408', ')', '-708-8064', '|', '|', 'Portfolio', ':', 'Git', ':', '|', 'Blog', ':', '______________________________________________________________________________', 'OBJECTIVE', 'Responsible', ',', 'hardworking', 'student', 'with', 'an', 'excellent', 'work', 'ethic', ',', 'proven', 'leadership', 'abilities', ',', 'and', 'time', 'management', 'skills', 'looking', 'for', 'exciting', 'computing', 'opportunities', '.', 'RESEARCH', 'AI4ALL', 'Special', 'Interest', 'Group', '(', 'SIG', 'for', 'Sustainability', ')', ',', 'San', 'Jose', ',', 'CA', '|', '2020', 'Project', ':', 'Selected', 'by', 'the', 'AI4ALL', 'Alumni', 'program', '.', 'Focused', 'on', 'modeling', 'water', 'quality', 'using', 'the', 'public', '“', 'Indian', 'Water', 'Quality', 'Data', '”', 'dataset', '(', 'includes', 'historical', 'data', 'on', 'pollution', 'levels', 'from', 'various', 'monitoring', 'stations', 'across', 'India', ')', '.', 'Worked']\n"
          ],
          "name": "stdout"
        }
      ]
    },
    {
      "cell_type": "code",
      "metadata": {
        "colab": {
          "base_uri": "https://localhost:8080/"
        },
        "id": "Fse9XO0CiAD1",
        "outputId": "0c1cf48f-f55a-45e9-a997-9cd21adb694d"
      },
      "source": [
        "# compute the frequency distribution \n",
        "mp_freqdist = FreqDist(words) \n",
        "mp_freqdist.most_common(25) # show the top 25 (word,frequency) pairs"
      ],
      "execution_count": 13,
      "outputs": [
        {
          "output_type": "execute_result",
          "data": {
            "text/plain": [
              "[(',', 98),\n",
              " ('and', 46),\n",
              " ('.', 43),\n",
              " ('the', 39),\n",
              " ('to', 39),\n",
              " ('(', 38),\n",
              " (')', 38),\n",
              " ('for', 30),\n",
              " (':', 24),\n",
              " ('in', 24),\n",
              " ('|', 23),\n",
              " ('2020', 20),\n",
              " ('of', 18),\n",
              " ('on', 13),\n",
              " ('at', 11),\n",
              " ('CA', 10),\n",
              " ('a', 10),\n",
              " ('with', 9),\n",
              " ('San', 8),\n",
              " ('an', 7),\n",
              " ('AI4ALL', 7),\n",
              " ('Jose', 7),\n",
              " ('program', 7),\n",
              " ('using', 7),\n",
              " ('various', 7)]"
            ]
          },
          "metadata": {
            "tags": []
          },
          "execution_count": 13
        }
      ]
    },
    {
      "cell_type": "code",
      "metadata": {
        "id": "LRpX-QFojyYD"
      },
      "source": [
        "# next steps: clean up capitalization, punctuation, get bigrams and trigrams, working with new datatypes\n",
        "# research approximate string matching\n",
        "# filter with dates as well\n"
      ],
      "execution_count": 14,
      "outputs": []
    },
    {
      "cell_type": "markdown",
      "metadata": {
        "id": "kUYgufW38RGJ"
      },
      "source": [
        "# Clean data before calculating Frequencies"
      ]
    },
    {
      "cell_type": "code",
      "metadata": {
        "colab": {
          "base_uri": "https://localhost:8080/"
        },
        "id": "EtzgOBaB8UfT",
        "outputId": "0100fe68-bebd-49ae-8e8f-43a063ca3338"
      },
      "source": [
        "# remove capitalization\n",
        "\n",
        "updated_text = [word.lower() for word in words] \n",
        "print(updated_text[0:100])"
      ],
      "execution_count": 15,
      "outputs": [
        {
          "output_type": "stream",
          "text": [
            "['aroshi', 'ghosh', 'ph', ':', '(', '408', ')', '-708-8064', '|', '|', 'portfolio', ':', 'git', ':', '|', 'blog', ':', '______________________________________________________________________________', 'objective', 'responsible', ',', 'hardworking', 'student', 'with', 'an', 'excellent', 'work', 'ethic', ',', 'proven', 'leadership', 'abilities', ',', 'and', 'time', 'management', 'skills', 'looking', 'for', 'exciting', 'computing', 'opportunities', '.', 'research', 'ai4all', 'special', 'interest', 'group', '(', 'sig', 'for', 'sustainability', ')', ',', 'san', 'jose', ',', 'ca', '|', '2020', 'project', ':', 'selected', 'by', 'the', 'ai4all', 'alumni', 'program', '.', 'focused', 'on', 'modeling', 'water', 'quality', 'using', 'the', 'public', '“', 'indian', 'water', 'quality', 'data', '”', 'dataset', '(', 'includes', 'historical', 'data', 'on', 'pollution', 'levels', 'from', 'various', 'monitoring', 'stations', 'across', 'india', ')', '.', 'worked']\n"
          ],
          "name": "stdout"
        }
      ]
    },
    {
      "cell_type": "code",
      "metadata": {
        "colab": {
          "base_uri": "https://localhost:8080/"
        },
        "id": "gTl1rOKH9ff-",
        "outputId": "6a026a72-b2fc-47fd-dd6b-f6354ea24f81"
      },
      "source": [
        "# remove punctuation\n",
        "\n",
        "final_text = [x for x in updated_text if x.isalpha()]\n",
        "\n",
        "print(final_text[0:100])\n"
      ],
      "execution_count": 16,
      "outputs": [
        {
          "output_type": "stream",
          "text": [
            "['aroshi', 'ghosh', 'ph', 'portfolio', 'git', 'blog', 'objective', 'responsible', 'hardworking', 'student', 'with', 'an', 'excellent', 'work', 'ethic', 'proven', 'leadership', 'abilities', 'and', 'time', 'management', 'skills', 'looking', 'for', 'exciting', 'computing', 'opportunities', 'research', 'special', 'interest', 'group', 'sig', 'for', 'sustainability', 'san', 'jose', 'ca', 'project', 'selected', 'by', 'the', 'alumni', 'program', 'focused', 'on', 'modeling', 'water', 'quality', 'using', 'the', 'public', 'indian', 'water', 'quality', 'data', 'dataset', 'includes', 'historical', 'data', 'on', 'pollution', 'levels', 'from', 'various', 'monitoring', 'stations', 'across', 'india', 'worked', 'on', 'data', 'and', 'modelling', 'the', 'data', 'using', 'linear', 'regression', 'regression', 'tree', 'and', 'bayesian', 'ridge', 'regression', 'models', 'evaluated', 'them', 'for', 'error', 'and', 'accuracy', 'result', 'wrote', 'an', 'academic', 'paper', 'link', 'naval', 'postgraduate', 'school']\n"
          ],
          "name": "stdout"
        }
      ]
    },
    {
      "cell_type": "code",
      "metadata": {
        "colab": {
          "base_uri": "https://localhost:8080/"
        },
        "id": "xqgzMbIr-XkW",
        "outputId": "74dbc4a8-9418-42d6-c5c9-115c8038a1b0"
      },
      "source": [
        "# Check frequencies now\n",
        "\n",
        "mp_freqdist = FreqDist(final_text)  \n",
        "mp_freqdist.most_common(25)"
      ],
      "execution_count": 17,
      "outputs": [
        {
          "output_type": "execute_result",
          "data": {
            "text/plain": [
              "[('and', 46),\n",
              " ('the', 39),\n",
              " ('to', 39),\n",
              " ('for', 30),\n",
              " ('in', 24),\n",
              " ('of', 18),\n",
              " ('on', 13),\n",
              " ('at', 11),\n",
              " ('ca', 10),\n",
              " ('a', 10),\n",
              " ('outreach', 10),\n",
              " ('with', 9),\n",
              " ('san', 8),\n",
              " ('youth', 8),\n",
              " ('an', 7),\n",
              " ('jose', 7),\n",
              " ('program', 7),\n",
              " ('using', 7),\n",
              " ('data', 7),\n",
              " ('various', 7),\n",
              " ('selected', 6),\n",
              " ('school', 6),\n",
              " ('award', 6),\n",
              " ('art', 6),\n",
              " ('city', 6)]"
            ]
          },
          "metadata": {
            "tags": []
          },
          "execution_count": 17
        }
      ]
    },
    {
      "cell_type": "markdown",
      "metadata": {
        "id": "HoEnsVta_UFd"
      },
      "source": [
        "# Remove stopwords"
      ]
    },
    {
      "cell_type": "code",
      "metadata": {
        "colab": {
          "base_uri": "https://localhost:8080/"
        },
        "id": "rYzJ4n88_Tse",
        "outputId": "181eca3c-f58b-49fc-e273-af11bdb9e787"
      },
      "source": [
        "nltk.download('stopwords') \n",
        "from nltk.corpus import stopwords\n",
        "stop_words = stopwords.words('english')\n",
        "print(len(stop_words), \"stopwords:\", stop_words) # show the words nltk will remove as stopwords\n",
        "# print the length of our original text\n",
        "print('Length of original text:',len(final_text))\n",
        "print(final_text[0:100])"
      ],
      "execution_count": 18,
      "outputs": [
        {
          "output_type": "stream",
          "text": [
            "[nltk_data] Downloading package stopwords to /root/nltk_data...\n",
            "[nltk_data]   Unzipping corpora/stopwords.zip.\n",
            "179 stopwords: ['i', 'me', 'my', 'myself', 'we', 'our', 'ours', 'ourselves', 'you', \"you're\", \"you've\", \"you'll\", \"you'd\", 'your', 'yours', 'yourself', 'yourselves', 'he', 'him', 'his', 'himself', 'she', \"she's\", 'her', 'hers', 'herself', 'it', \"it's\", 'its', 'itself', 'they', 'them', 'their', 'theirs', 'themselves', 'what', 'which', 'who', 'whom', 'this', 'that', \"that'll\", 'these', 'those', 'am', 'is', 'are', 'was', 'were', 'be', 'been', 'being', 'have', 'has', 'had', 'having', 'do', 'does', 'did', 'doing', 'a', 'an', 'the', 'and', 'but', 'if', 'or', 'because', 'as', 'until', 'while', 'of', 'at', 'by', 'for', 'with', 'about', 'against', 'between', 'into', 'through', 'during', 'before', 'after', 'above', 'below', 'to', 'from', 'up', 'down', 'in', 'out', 'on', 'off', 'over', 'under', 'again', 'further', 'then', 'once', 'here', 'there', 'when', 'where', 'why', 'how', 'all', 'any', 'both', 'each', 'few', 'more', 'most', 'other', 'some', 'such', 'no', 'nor', 'not', 'only', 'own', 'same', 'so', 'than', 'too', 'very', 's', 't', 'can', 'will', 'just', 'don', \"don't\", 'should', \"should've\", 'now', 'd', 'll', 'm', 'o', 're', 've', 'y', 'ain', 'aren', \"aren't\", 'couldn', \"couldn't\", 'didn', \"didn't\", 'doesn', \"doesn't\", 'hadn', \"hadn't\", 'hasn', \"hasn't\", 'haven', \"haven't\", 'isn', \"isn't\", 'ma', 'mightn', \"mightn't\", 'mustn', \"mustn't\", 'needn', \"needn't\", 'shan', \"shan't\", 'shouldn', \"shouldn't\", 'wasn', \"wasn't\", 'weren', \"weren't\", 'won', \"won't\", 'wouldn', \"wouldn't\"]\n",
            "Length of original text: 1140\n",
            "['aroshi', 'ghosh', 'ph', 'portfolio', 'git', 'blog', 'objective', 'responsible', 'hardworking', 'student', 'with', 'an', 'excellent', 'work', 'ethic', 'proven', 'leadership', 'abilities', 'and', 'time', 'management', 'skills', 'looking', 'for', 'exciting', 'computing', 'opportunities', 'research', 'special', 'interest', 'group', 'sig', 'for', 'sustainability', 'san', 'jose', 'ca', 'project', 'selected', 'by', 'the', 'alumni', 'program', 'focused', 'on', 'modeling', 'water', 'quality', 'using', 'the', 'public', 'indian', 'water', 'quality', 'data', 'dataset', 'includes', 'historical', 'data', 'on', 'pollution', 'levels', 'from', 'various', 'monitoring', 'stations', 'across', 'india', 'worked', 'on', 'data', 'and', 'modelling', 'the', 'data', 'using', 'linear', 'regression', 'regression', 'tree', 'and', 'bayesian', 'ridge', 'regression', 'models', 'evaluated', 'them', 'for', 'error', 'and', 'accuracy', 'result', 'wrote', 'an', 'academic', 'paper', 'link', 'naval', 'postgraduate', 'school']\n"
          ],
          "name": "stdout"
        }
      ]
    },
    {
      "cell_type": "code",
      "metadata": {
        "colab": {
          "base_uri": "https://localhost:8080/"
        },
        "id": "Mk-qgPju_q_s",
        "outputId": "dc337eac-588d-4ca7-8142-17684e8739ed"
      },
      "source": [
        "# remove the stopwords from the text\n",
        "final_text = [word for word in final_text if word not in stop_words] #another regex\n",
        "print(len(final_text), \"without stopwords\")\n",
        "\n",
        "print(final_text[1:100])"
      ],
      "execution_count": 19,
      "outputs": [
        {
          "output_type": "stream",
          "text": [
            "848 without stopwords\n",
            "['ghosh', 'ph', 'portfolio', 'git', 'blog', 'objective', 'responsible', 'hardworking', 'student', 'excellent', 'work', 'ethic', 'proven', 'leadership', 'abilities', 'time', 'management', 'skills', 'looking', 'exciting', 'computing', 'opportunities', 'research', 'special', 'interest', 'group', 'sig', 'sustainability', 'san', 'jose', 'ca', 'project', 'selected', 'alumni', 'program', 'focused', 'modeling', 'water', 'quality', 'using', 'public', 'indian', 'water', 'quality', 'data', 'dataset', 'includes', 'historical', 'data', 'pollution', 'levels', 'various', 'monitoring', 'stations', 'across', 'india', 'worked', 'data', 'modelling', 'data', 'using', 'linear', 'regression', 'regression', 'tree', 'bayesian', 'ridge', 'regression', 'models', 'evaluated', 'error', 'accuracy', 'result', 'wrote', 'academic', 'paper', 'link', 'naval', 'postgraduate', 'school', 'monterey', 'ca', 'project', 'selected', 'seap', 'intern', 'program', 'worked', 'using', 'ibm', 'oracle', 'blockchain', 'platform', 'create', 'system', 'tracks', 'shipment', 'details', 'transportation']\n"
          ],
          "name": "stdout"
        }
      ]
    },
    {
      "cell_type": "code",
      "metadata": {
        "colab": {
          "base_uri": "https://localhost:8080/"
        },
        "id": "65aoPGsNEPBq",
        "outputId": "0365c363-5795-4e8a-ed02-a7c7868a1bdd"
      },
      "source": [
        "# Check frequencies now\n",
        "\n",
        "mp_freqdist = FreqDist(final_text)  \n",
        "mp_freqdist.most_common(25)"
      ],
      "execution_count": 20,
      "outputs": [
        {
          "output_type": "execute_result",
          "data": {
            "text/plain": [
              "[('ca', 10),\n",
              " ('outreach', 10),\n",
              " ('san', 8),\n",
              " ('youth', 8),\n",
              " ('jose', 7),\n",
              " ('program', 7),\n",
              " ('using', 7),\n",
              " ('data', 7),\n",
              " ('various', 7),\n",
              " ('selected', 6),\n",
              " ('school', 6),\n",
              " ('award', 6),\n",
              " ('art', 6),\n",
              " ('city', 6),\n",
              " ('new', 6),\n",
              " ('ap', 5),\n",
              " ('june', 5),\n",
              " ('robotics', 5),\n",
              " ('competition', 5),\n",
              " ('ai', 5),\n",
              " ('key', 5),\n",
              " ('team', 5),\n",
              " ('world', 5),\n",
              " ('teams', 5),\n",
              " ('computing', 4)]"
            ]
          },
          "metadata": {
            "tags": []
          },
          "execution_count": 20
        }
      ]
    }
  ]
}