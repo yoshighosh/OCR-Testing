{
  "nbformat": 4,
  "nbformat_minor": 0,
  "metadata": {
    "colab": {
      "name": "OCR Prototypes (PPTX Version).ipynb",
      "provenance": [],
      "collapsed_sections": [],
      "mount_file_id": "1zElHTES-hjlOHjs4sHUYJJucT34oRHPB",
      "authorship_tag": "ABX9TyPkRa9mBR8J+21N8GeuqbtG",
      "include_colab_link": true
    },
    "kernelspec": {
      "display_name": "Python 3",
      "name": "python3"
    },
    "language_info": {
      "name": "python"
    }
  },
  "cells": [
    {
      "cell_type": "markdown",
      "metadata": {
        "id": "view-in-github",
        "colab_type": "text"
      },
      "source": [
        "<a href=\"https://colab.research.google.com/github/yoshighosh/OCR-Testing/blob/main/OCR_Prototypes_(PPTX_Version).ipynb\" target=\"_parent\"><img src=\"https://colab.research.google.com/assets/colab-badge.svg\" alt=\"Open In Colab\"/></a>"
      ]
    },
    {
      "cell_type": "markdown",
      "metadata": {
        "id": "nHOUYdDVXPhj"
      },
      "source": [
        "# Testing Tesseract OCR Models\n",
        "\n",
        "**Steps:**\n",
        "- Load in image file\n",
        "- Preprocess using OpenCV\n",
        "- "
      ]
    },
    {
      "cell_type": "markdown",
      "metadata": {
        "id": "ihFUO3U7FUp9"
      },
      "source": [
        "# Convert DOCX to text"
      ]
    },
    {
      "cell_type": "code",
      "metadata": {
        "colab": {
          "base_uri": "https://localhost:8080/"
        },
        "id": "cg6XGy6n6whU",
        "outputId": "eba56c2c-a238-4d3b-ef9f-96638ec17ee7"
      },
      "source": [
        "pip install python-pptx\n"
      ],
      "execution_count": 2,
      "outputs": [
        {
          "output_type": "stream",
          "text": [
            "Collecting python-pptx\n",
            "\u001b[?25l  Downloading https://files.pythonhosted.org/packages/53/ed/547be9730350509253bc7d76631a8ffcd1a62dda4d7482fb25d369696e37/python-pptx-0.6.19.tar.gz (9.3MB)\n",
            "\u001b[K     |████████████████████████████████| 9.3MB 4.0MB/s \n",
            "\u001b[?25hRequirement already satisfied: lxml>=3.1.0 in /usr/local/lib/python3.7/dist-packages (from python-pptx) (4.2.6)\n",
            "Requirement already satisfied: Pillow>=3.3.2 in /usr/local/lib/python3.7/dist-packages (from python-pptx) (7.1.2)\n",
            "Collecting XlsxWriter>=0.5.7\n",
            "\u001b[?25l  Downloading https://files.pythonhosted.org/packages/2c/ce/74fd8d638a5b82ea0c6f08a5978f741c2655a38c3d6e82f73a0f084377e6/XlsxWriter-1.4.3-py2.py3-none-any.whl (149kB)\n",
            "\u001b[K     |████████████████████████████████| 153kB 63.4MB/s \n",
            "\u001b[?25hBuilding wheels for collected packages: python-pptx\n",
            "  Building wheel for python-pptx (setup.py) ... \u001b[?25l\u001b[?25hdone\n",
            "  Created wheel for python-pptx: filename=python_pptx-0.6.19-cp37-none-any.whl size=469953 sha256=07872e798b969bceb49f203d2077434cb579b357cec4d5f2e55f278623661195\n",
            "  Stored in directory: /root/.cache/pip/wheels/94/ef/02/9357c6781fbe3fee0e5e04bad23904d096e39d420423519631\n",
            "Successfully built python-pptx\n",
            "Installing collected packages: XlsxWriter, python-pptx\n",
            "Successfully installed XlsxWriter-1.4.3 python-pptx-0.6.19\n"
          ],
          "name": "stdout"
        }
      ]
    },
    {
      "cell_type": "code",
      "metadata": {
        "id": "6eBis73b6INO"
      },
      "source": [
        "from pptx import Presentation\n",
        "import glob\n",
        "\n",
        "def getText(filename):\n",
        "  for eachfile in glob.glob(filename):\n",
        "      prs = Presentation(eachfile)\n",
        "      #print(eachfile)\n",
        "      #print(\"----------------------\")\n",
        "      fullText = []\n",
        "      for slide in prs.slides:\n",
        "          for shape in slide.shapes:\n",
        "              if hasattr(shape, \"text\"):\n",
        "                  fullText.append(shape.text)\n",
        "  return '\\n'.join(fullText)"
      ],
      "execution_count": 9,
      "outputs": []
    },
    {
      "cell_type": "code",
      "metadata": {
        "colab": {
          "base_uri": "https://localhost:8080/"
        },
        "id": "XMSK6FcL7Z5x",
        "outputId": "18e0bc14-296f-461d-be0a-5b9e1b3e11b5"
      },
      "source": [
        "text = getText('/content/drive/MyDrive/Aroshi_highSchool/SEAP vounteer/pptx files/Leaf Disk Lab Poster (1).pptx')\n",
        "print(text)"
      ],
      "execution_count": 10,
      "outputs": [
        {
          "output_type": "stream",
          "text": [
            "\n",
            "The Effect of Substrate Concentration on the Rate of Photosynthesis\n",
            "William Chen, Aroshi Ghosh, Muskaan Grewal, Anoushka Shah, Ryan Sohn\n",
            "AP Biology Period 6 \n",
            "\n",
            "\n",
            "\n",
            "\n",
            "\n",
            "\n",
            "Due to COVID-19 restrictions, we were unable to meet up as much as we might have liked.  However, we were still able to work together through zoom and communicate through text.  It also took us more attempts than we initially anticipated to complete the experiment.  If we had coordinated our efforts to finish the experiment earlier, we would have had more time to finish the poster and video.\n",
            "\n",
            "In future experiments, we would like to include higher concentrations of substrate (5 g, 6g, etc) to solidify our theory that there are a limited number of active sites and at a certain point, the reaction rate stops increasing. Additionally, as we did our experiment during late fall when sunlight is not as bright, we would like to attempt this experiment again but in the Summer when sunlight is brightest. We believe that this will allow us to have more accurate results as there will be less variability in the light source.\n",
            "Background Information\n",
            "Question\n",
            "Variables\n",
            "Data\n",
            "Conclusion\n",
            "Reflection\n",
            "Photosynthesis is one of the major processes for plants and it converts water, carbon dioxide, and light into glucose and oxygen. This occurs inside the chloroplasts within plant cells. In order to simulate photosynthesis in a controlled environment, we need living plant cells (our spinach leaf disks), carbon dioxide (found in sodium bicarbonate), water, and a light source. \n",
            "How do varying levels of substrate concentration (carbon dioxide found in sodium bicarbonate) affect the rate at which spinach leaves can photosynthesize?\n",
            "Independent Variable: Our independent variable is varying levels of substrate concentration. We added 0g, 1g, 2g, 3g, and 4g of sodium bicarbonate to 5 glasses each filled with 175g of water.\n",
            "Dependent Variable: Our dependent variable is the number of leaves that have floated to the top after a specific amount of time and substrate concentration.\n",
            "Our results do support our original hypothesis, as the rate of photosynthesis grew significantly quicker with the addition of more sodium bicarbonate, our substrate.  In our hypothesis, we also predicted that the rate of photosynthesis would max out at a certain point due to the finite amount of chloroplasts in the leaves.  This is supported by the data from our trials with 3 grams and 4 grams of substrate, which had very similar results.  We could further reinforce this in future experiments by testing for the rate of photosynthesis with higher amounts of substrate (5 g, 6 g, etc.).     \n",
            "\n",
            "Hypothesis\n",
            "If the amount of substrate changes, then the rate of Photosynthesis will change. We expect that the more substrate added, the fast the rate of photosynthesis will be since there is more substrate available to the chloroplasts, allowing them to be more efficient. However, we also foresee that at a certain level of substrate concentration, the rate of photosynthesis will stop changing as there is a limited amount of chloroplasts in the leaves.\n",
            "\n",
            "Abstract\n",
            "In this experiment, we used sodium bicarbonate and disks of spinach leaves to test whether the rate at which photosynthesis occurs could be sped up through the addition of more carbon dioxide (found in the sodium bicarbonate).  Previous research and runs of this experiment have shown that adding disks of leaves to a solution of water and sodium bicarbonate does indeed allow the leaf to photosynthesize.    For our tests, we created a vacuum using a syringe to make the leaf disks sink before putting them into a glass of a bicarbonate solution exposed to sunlight to see how long it would take the leaves to photosynthesize, creating oxygen and causing them to float.  To test our hypothesis that an increased substrate concentration would also increase the rate of photosynthesis, we ran this experiment with multiple trials of different bicarbonate concentrations, ranging from zero to four grams.  Our results supported our hypothesis, suggesting that a photosynthesizing plant in an environment with higher carbon dioxide levels would photosynthesize quicker.\n",
            "Picture of setup\n",
            "\n",
            "Materials and Procedure\n",
            "Materials: \n",
            "250 Spinach Leaf Disks (10 per trial * 5 substrates * 5 repetitions of the experiment)\n",
            "Water (175 grams for each trial)\n",
            "Sodium Bicarbonate/Baking Soda (our substrate levels were 0g, 1g, 2g, 3g, 4g)\n",
            "Light Source\n",
            "Liquid dish soap\n",
            "Syringe with good suction (no needle)\n",
            "Clear cups\n",
            "\n",
            "Procedure:\n",
            "Create each bicarbonate solution in the clear cups by mixing 175 milliliters of water with the respective sodium bicarbonate substrate amount (0 grams, 1 gram, 2 grams, 3 grams, or 4 grams). Add a drop of liquid dish soap to help the solution enter the leaves more easily.\n",
            "Cut out 10 disks of spinach leaves (avoiding veins or dead regions) and place in empty syringe. Suck in a small amount of the bicarbonate solution (about half of the syringe). Form a vacuum by blocking the tip of the syringe and pulling back until you feel pressure. Release the syringe and check if all the disks have sunk. Then, dump leaves and solution back into clear glass.\n",
            "Mark down how many leaves float after each minute until all have risen. Make sure to stir occasionally to ensure that leaves do not stick together.\n",
            "\n",
            "The Number of Leaves (on average) that have floated\n",
            "Throughout the experiment, we collected 250 data points (5 trials of 10 disks per substrate). We then took the average number of leaves floating at each minute for all the trials for each substrate. .\n",
            "\n",
            "Abstract\n",
            "Test the effect of substrate concentration on Photosynthesis\n",
            "Simulate photosynthesis\n",
            "Successful experiment\n",
            "Background Information\n",
            "Photosynthesis: major process for plants to gain energy\n",
            "Simulate photosynthesis in a controlled environment\n",
            "\n",
            "Question: How do varying levels of substrate concentration (Carbon Dioxide) affect the rate at which spinach leaves can photosynthesize?\n",
            "Hypothesis\n",
            "If the amount of substrate changes, then the rate of Photosynthesis will change\n",
            "At a certain point, even as the substrate increases, the rate of reaction will remain the same\n",
            "Design\n",
            "Independent Variable: Substrate amount (0g, 1g, 2g, 3g, 4g)\n",
            "Dependent Variable: Number of leaves floating after each minute\n",
            "\n",
            "5 repetitions x 10 disks x 5 substrates = 250 datapoints\n",
            "Data\n",
            "The Number of Leaves (on average) that have floated for each substrate amount\n",
            "Conclusion/Reflection\n",
            "Supports hypothesis\n",
            "add larger substrate amounts in future experiments \n",
            "COVID-19 restrictions\n",
            "many failed attempts\n",
            "\n",
            "The Effect of Substrate Concentration on the Rate of Photosynthesis\n",
            "William Chen, Aroshi Ghosh, Muskaan Grewal, Anoushka Shah, Ryan Sohn\n",
            "AP Biology Period 6 \n",
            "\n",
            "\n",
            "\n",
            "\n",
            "\n",
            "\n",
            "Due to COVID-19 restrictions, we were unable to meet up as much as we might have liked.  However, we were still able to work together through zoom and communicate through text.  It also took us more attempts than we initially anticipated to complete the experiment.  If we had coordinated our efforts to finish the experiment earlier, we would have had more time to finish the poster and video.\n",
            "\n",
            "In future experiments, we would like to include higher concentrations of substrate (5 g, 6g, etc) to solidify our theory that there are a limited number of active sites and at a certain point, the reaction rate stops increasing. Additionally, as we did our experiment during late fall when sunlight is not as bright, we would like to attempt this experiment again but in the Summer when sunlight is brightest. We believe that this will allow us to have more accurate results as there will be less variability in the light source.\n",
            "Background Information\n",
            "Question\n",
            "Variables\n",
            "Data\n",
            "Conclusion\n",
            "Reflection\n",
            "Photosynthesis is one of the major processes for plants and it converts water, carbon dioxide, and light into glucose and oxygen. This occurs inside the chloroplasts within plant cells. In order to simulate photosynthesis in a controlled environment, we need living plant cells (our spinach leaf disks), carbon dioxide (found in sodium bicarbonate), water, and a light source. \n",
            "How do varying levels of substrate concentration (carbon dioxide found in sodium bicarbonate) affect the rate at which spinach leaves can photosynthesize?\n",
            "Independent Variable: Our independent variable is varying levels of substrate concentration. We added 0g, 1g, 2g, 3g, and 4g of sodium bicarbonate to 5 glasses each filled with 175g of water.\n",
            "Dependent Variable: Our dependent variable is the number of leaves that have floated to the top after a specific amount of time and substrate concentration.\n",
            "Our results do support our original hypothesis, as the rate of photosynthesis grew significantly quicker with the addition of more sodium bicarbonate, our substrate.  In our hypothesis, we also predicted that the rate of photosynthesis would max out at a certain point due to the finite amount of chloroplasts in the leaves.  This is supported by the data from our trials with 3 grams and 4 grams of substrate, which had very similar results.  We could further reinforce this in future experiments by testing for the rate of photosynthesis with higher amounts of substrate (5 g, 6 g, etc.).     \n",
            "\n",
            "Hypothesis\n",
            "If the amount of substrate changes, then the rate of Photosynthesis will change. We expect that the more substrate added, the fast the rate of photosynthesis will be since there is more substrate available to the chloroplasts, allowing them to be more efficient. However, we also foresee that at a certain level of substrate concentration, the rate of photosynthesis will stop changing as there is a limited amount of chloroplasts in the leaves.\n",
            "\n",
            "Abstract\n",
            "In this experiment, we used sodium bicarbonate and disks of spinach leaves to test whether the rate at which photosynthesis occurs could be sped up through the addition of more carbon dioxide (found in the sodium bicarbonate).  Previous research and runs of this experiment have shown that adding disks of leaves to a solution of water and sodium bicarbonate does indeed allow the leaf to photosynthesize.    For our tests, we created a vacuum using a syringe to make the leaf disks sink before putting them into a glass of a bicarbonate solution exposed to sunlight to see how long it would take the leaves to photosynthesize, creating oxygen and causing them to float.  To test our hypothesis that an increased substrate concentration would also increase the rate of photosynthesis, we ran this experiment with multiple trials of different bicarbonate concentrations, ranging from zero to four grams.  Our results supported our hypothesis, suggesting that a photosynthesizing plant in an environment with higher carbon dioxide levels would photosynthesize quicker.\n",
            "Picture of setup\n",
            "\n",
            "Materials and Procedure\n",
            "Materials: \n",
            "250 Spinach Leaf Disks (10 per trial * 5 substrates * 5 repetitions of the experiment)\n",
            "Water (175 grams for each trial)\n",
            "Sodium Bicarbonate/Baking Soda (our substrate levels were 0g, 1g, 2g, 3g, 4g)\n",
            "Light Source\n",
            "Liquid dish soap\n",
            "Syringe with good suction (no needle)\n",
            "Clear cups\n",
            "\n",
            "Procedure:\n",
            "Create each bicarbonate solution in the clear cups by mixing 175 milliliters of water with the respective sodium bicarbonate substrate amount (0 grams, 1 gram, 2 grams, 3 grams, or 4 grams). Add a drop of liquid dish soap to help the solution enter the leaves more easily.\n",
            "Cut out 10 disks of spinach leaves (avoiding veins or dead regions) and place in empty syringe. Suck in a small amount of the bicarbonate solution (about half of the syringe). Form a vacuum by blocking the tip of the syringe and pulling back until you feel pressure. Release the syringe and check if all the disks have sunk. Then, dump leaves and solution back into clear glass.\n",
            "Mark down how many leaves float after each minute until all have risen. Make sure to stir occasionally to ensure that leaves do not stick together.\n",
            "\n",
            "The Number of Leaves (on average) that have floated\n",
            "Throughout the experiment, we collected 250 data points (5 trials of 10 disks per substrate). We then took the average number of leaves floating at each minute for all the trials for each substrate. .\n",
            "\n"
          ],
          "name": "stdout"
        }
      ]
    },
    {
      "cell_type": "markdown",
      "metadata": {
        "id": "eziBQFwrhTie"
      },
      "source": [
        "# Checking word frequencies\n",
        "- use NLTK word tokenize\n"
      ]
    },
    {
      "cell_type": "code",
      "metadata": {
        "colab": {
          "base_uri": "https://localhost:8080/"
        },
        "id": "uLfA91rlgkgH",
        "outputId": "d30f4be9-e6f2-4546-a035-c1b8e4d66dff"
      },
      "source": [
        "import nltk\n",
        "from nltk import word_tokenize\n",
        "nltk.download('punkt')\n",
        "\n",
        "from nltk import ngrams, FreqDist\n",
        "\n",
        "import pandas as pd\n",
        "import matplotlib.pyplot as plt\n",
        "import numpy as np"
      ],
      "execution_count": 11,
      "outputs": [
        {
          "output_type": "stream",
          "text": [
            "[nltk_data] Downloading package punkt to /root/nltk_data...\n",
            "[nltk_data]   Unzipping tokenizers/punkt.zip.\n"
          ],
          "name": "stdout"
        }
      ]
    },
    {
      "cell_type": "code",
      "metadata": {
        "colab": {
          "base_uri": "https://localhost:8080/"
        },
        "id": "4vYR4vNahjXN",
        "outputId": "e3e25fb5-73bd-4fdf-f13c-2281136f8b4b"
      },
      "source": [
        "words = word_tokenize(text)\n",
        "print(len(words), \"words:\", words[0:100])"
      ],
      "execution_count": 12,
      "outputs": [
        {
          "output_type": "stream",
          "text": [
            "2216 words: ['The', 'Effect', 'of', 'Substrate', 'Concentration', 'on', 'the', 'Rate', 'of', 'Photosynthesis', 'William', 'Chen', ',', 'Aroshi', 'Ghosh', ',', 'Muskaan', 'Grewal', ',', 'Anoushka', 'Shah', ',', 'Ryan', 'Sohn', 'AP', 'Biology', 'Period', '6', 'Due', 'to', 'COVID-19', 'restrictions', ',', 'we', 'were', 'unable', 'to', 'meet', 'up', 'as', 'much', 'as', 'we', 'might', 'have', 'liked', '.', 'However', ',', 'we', 'were', 'still', 'able', 'to', 'work', 'together', 'through', 'zoom', 'and', 'communicate', 'through', 'text', '.', 'It', 'also', 'took', 'us', 'more', 'attempts', 'than', 'we', 'initially', 'anticipated', 'to', 'complete', 'the', 'experiment', '.', 'If', 'we', 'had', 'coordinated', 'our', 'efforts', 'to', 'finish', 'the', 'experiment', 'earlier', ',', 'we', 'would', 'have', 'had', 'more', 'time', 'to', 'finish', 'the', 'poster']\n"
          ],
          "name": "stdout"
        }
      ]
    },
    {
      "cell_type": "code",
      "metadata": {
        "colab": {
          "base_uri": "https://localhost:8080/"
        },
        "id": "Fse9XO0CiAD1",
        "outputId": "691053b8-e3cb-40a7-e5e8-394c522385b7"
      },
      "source": [
        "# compute the frequency distribution \n",
        "mp_freqdist = FreqDist(words) \n",
        "mp_freqdist.most_common(25) # show the top 25 (word,frequency) pairs"
      ],
      "execution_count": 13,
      "outputs": [
        {
          "output_type": "execute_result",
          "data": {
            "text/plain": [
              "[(',', 107),\n",
              " ('the', 103),\n",
              " ('of', 93),\n",
              " ('.', 74),\n",
              " ('to', 57),\n",
              " ('and', 38),\n",
              " ('substrate', 38),\n",
              " ('a', 36),\n",
              " ('(', 33),\n",
              " (')', 33),\n",
              " ('we', 32),\n",
              " ('in', 28),\n",
              " ('leaves', 28),\n",
              " ('our', 24),\n",
              " ('bicarbonate', 24),\n",
              " ('that', 23),\n",
              " ('rate', 23),\n",
              " ('experiment', 19),\n",
              " ('more', 18),\n",
              " ('photosynthesis', 18),\n",
              " ('have', 17),\n",
              " ('is', 16),\n",
              " ('sodium', 16),\n",
              " ('with', 16),\n",
              " ('grams', 16)]"
            ]
          },
          "metadata": {
            "tags": []
          },
          "execution_count": 13
        }
      ]
    },
    {
      "cell_type": "code",
      "metadata": {
        "id": "LRpX-QFojyYD"
      },
      "source": [
        "# next steps: clean up capitalization, punctuation, get bigrams and trigrams, working with new datatypes\n",
        "# research approximate string matching\n",
        "# filter with dates as well\n"
      ],
      "execution_count": null,
      "outputs": []
    },
    {
      "cell_type": "markdown",
      "metadata": {
        "id": "kUYgufW38RGJ"
      },
      "source": [
        "# Clean data before calculating Frequencies"
      ]
    },
    {
      "cell_type": "code",
      "metadata": {
        "colab": {
          "base_uri": "https://localhost:8080/"
        },
        "id": "EtzgOBaB8UfT",
        "outputId": "1bf8f7a2-f998-434a-b5db-7337419821c0"
      },
      "source": [
        "# remove capitalization\n",
        "\n",
        "updated_text = [word.lower() for word in words] \n",
        "print(updated_text[0:100])"
      ],
      "execution_count": 14,
      "outputs": [
        {
          "output_type": "stream",
          "text": [
            "['the', 'effect', 'of', 'substrate', 'concentration', 'on', 'the', 'rate', 'of', 'photosynthesis', 'william', 'chen', ',', 'aroshi', 'ghosh', ',', 'muskaan', 'grewal', ',', 'anoushka', 'shah', ',', 'ryan', 'sohn', 'ap', 'biology', 'period', '6', 'due', 'to', 'covid-19', 'restrictions', ',', 'we', 'were', 'unable', 'to', 'meet', 'up', 'as', 'much', 'as', 'we', 'might', 'have', 'liked', '.', 'however', ',', 'we', 'were', 'still', 'able', 'to', 'work', 'together', 'through', 'zoom', 'and', 'communicate', 'through', 'text', '.', 'it', 'also', 'took', 'us', 'more', 'attempts', 'than', 'we', 'initially', 'anticipated', 'to', 'complete', 'the', 'experiment', '.', 'if', 'we', 'had', 'coordinated', 'our', 'efforts', 'to', 'finish', 'the', 'experiment', 'earlier', ',', 'we', 'would', 'have', 'had', 'more', 'time', 'to', 'finish', 'the', 'poster']\n"
          ],
          "name": "stdout"
        }
      ]
    },
    {
      "cell_type": "code",
      "metadata": {
        "colab": {
          "base_uri": "https://localhost:8080/"
        },
        "id": "gTl1rOKH9ff-",
        "outputId": "6a026a72-b2fc-47fd-dd6b-f6354ea24f81"
      },
      "source": [
        "# remove punctuation\n",
        "\n",
        "final_text = [x for x in updated_text if x.isalpha()]\n",
        "\n",
        "print(final_text[0:100])\n"
      ],
      "execution_count": null,
      "outputs": [
        {
          "output_type": "stream",
          "text": [
            "['aroshi', 'ghosh', 'ph', 'portfolio', 'git', 'blog', 'objective', 'responsible', 'hardworking', 'student', 'with', 'an', 'excellent', 'work', 'ethic', 'proven', 'leadership', 'abilities', 'and', 'time', 'management', 'skills', 'looking', 'for', 'exciting', 'computing', 'opportunities', 'research', 'special', 'interest', 'group', 'sig', 'for', 'sustainability', 'san', 'jose', 'ca', 'project', 'selected', 'by', 'the', 'alumni', 'program', 'focused', 'on', 'modeling', 'water', 'quality', 'using', 'the', 'public', 'indian', 'water', 'quality', 'data', 'dataset', 'includes', 'historical', 'data', 'on', 'pollution', 'levels', 'from', 'various', 'monitoring', 'stations', 'across', 'india', 'worked', 'on', 'data', 'and', 'modelling', 'the', 'data', 'using', 'linear', 'regression', 'regression', 'tree', 'and', 'bayesian', 'ridge', 'regression', 'models', 'evaluated', 'them', 'for', 'error', 'and', 'accuracy', 'result', 'wrote', 'an', 'academic', 'paper', 'link', 'naval', 'postgraduate', 'school']\n"
          ],
          "name": "stdout"
        }
      ]
    },
    {
      "cell_type": "code",
      "metadata": {
        "colab": {
          "base_uri": "https://localhost:8080/"
        },
        "id": "xqgzMbIr-XkW",
        "outputId": "74dbc4a8-9418-42d6-c5c9-115c8038a1b0"
      },
      "source": [
        "# Check frequencies now\n",
        "\n",
        "mp_freqdist = FreqDist(final_text)  \n",
        "mp_freqdist.most_common(25)"
      ],
      "execution_count": null,
      "outputs": [
        {
          "output_type": "execute_result",
          "data": {
            "text/plain": [
              "[('and', 46),\n",
              " ('the', 39),\n",
              " ('to', 39),\n",
              " ('for', 30),\n",
              " ('in', 24),\n",
              " ('of', 18),\n",
              " ('on', 13),\n",
              " ('at', 11),\n",
              " ('ca', 10),\n",
              " ('a', 10),\n",
              " ('outreach', 10),\n",
              " ('with', 9),\n",
              " ('san', 8),\n",
              " ('youth', 8),\n",
              " ('an', 7),\n",
              " ('jose', 7),\n",
              " ('program', 7),\n",
              " ('using', 7),\n",
              " ('data', 7),\n",
              " ('various', 7),\n",
              " ('selected', 6),\n",
              " ('school', 6),\n",
              " ('award', 6),\n",
              " ('art', 6),\n",
              " ('city', 6)]"
            ]
          },
          "metadata": {
            "tags": []
          },
          "execution_count": 17
        }
      ]
    },
    {
      "cell_type": "markdown",
      "metadata": {
        "id": "HoEnsVta_UFd"
      },
      "source": [
        "# Remove stopwords"
      ]
    },
    {
      "cell_type": "code",
      "metadata": {
        "colab": {
          "base_uri": "https://localhost:8080/"
        },
        "id": "rYzJ4n88_Tse",
        "outputId": "181eca3c-f58b-49fc-e273-af11bdb9e787"
      },
      "source": [
        "nltk.download('stopwords') \n",
        "from nltk.corpus import stopwords\n",
        "stop_words = stopwords.words('english')\n",
        "print(len(stop_words), \"stopwords:\", stop_words) # show the words nltk will remove as stopwords\n",
        "# print the length of our original text\n",
        "print('Length of original text:',len(final_text))\n",
        "print(final_text[0:100])"
      ],
      "execution_count": null,
      "outputs": [
        {
          "output_type": "stream",
          "text": [
            "[nltk_data] Downloading package stopwords to /root/nltk_data...\n",
            "[nltk_data]   Unzipping corpora/stopwords.zip.\n",
            "179 stopwords: ['i', 'me', 'my', 'myself', 'we', 'our', 'ours', 'ourselves', 'you', \"you're\", \"you've\", \"you'll\", \"you'd\", 'your', 'yours', 'yourself', 'yourselves', 'he', 'him', 'his', 'himself', 'she', \"she's\", 'her', 'hers', 'herself', 'it', \"it's\", 'its', 'itself', 'they', 'them', 'their', 'theirs', 'themselves', 'what', 'which', 'who', 'whom', 'this', 'that', \"that'll\", 'these', 'those', 'am', 'is', 'are', 'was', 'were', 'be', 'been', 'being', 'have', 'has', 'had', 'having', 'do', 'does', 'did', 'doing', 'a', 'an', 'the', 'and', 'but', 'if', 'or', 'because', 'as', 'until', 'while', 'of', 'at', 'by', 'for', 'with', 'about', 'against', 'between', 'into', 'through', 'during', 'before', 'after', 'above', 'below', 'to', 'from', 'up', 'down', 'in', 'out', 'on', 'off', 'over', 'under', 'again', 'further', 'then', 'once', 'here', 'there', 'when', 'where', 'why', 'how', 'all', 'any', 'both', 'each', 'few', 'more', 'most', 'other', 'some', 'such', 'no', 'nor', 'not', 'only', 'own', 'same', 'so', 'than', 'too', 'very', 's', 't', 'can', 'will', 'just', 'don', \"don't\", 'should', \"should've\", 'now', 'd', 'll', 'm', 'o', 're', 've', 'y', 'ain', 'aren', \"aren't\", 'couldn', \"couldn't\", 'didn', \"didn't\", 'doesn', \"doesn't\", 'hadn', \"hadn't\", 'hasn', \"hasn't\", 'haven', \"haven't\", 'isn', \"isn't\", 'ma', 'mightn', \"mightn't\", 'mustn', \"mustn't\", 'needn', \"needn't\", 'shan', \"shan't\", 'shouldn', \"shouldn't\", 'wasn', \"wasn't\", 'weren', \"weren't\", 'won', \"won't\", 'wouldn', \"wouldn't\"]\n",
            "Length of original text: 1140\n",
            "['aroshi', 'ghosh', 'ph', 'portfolio', 'git', 'blog', 'objective', 'responsible', 'hardworking', 'student', 'with', 'an', 'excellent', 'work', 'ethic', 'proven', 'leadership', 'abilities', 'and', 'time', 'management', 'skills', 'looking', 'for', 'exciting', 'computing', 'opportunities', 'research', 'special', 'interest', 'group', 'sig', 'for', 'sustainability', 'san', 'jose', 'ca', 'project', 'selected', 'by', 'the', 'alumni', 'program', 'focused', 'on', 'modeling', 'water', 'quality', 'using', 'the', 'public', 'indian', 'water', 'quality', 'data', 'dataset', 'includes', 'historical', 'data', 'on', 'pollution', 'levels', 'from', 'various', 'monitoring', 'stations', 'across', 'india', 'worked', 'on', 'data', 'and', 'modelling', 'the', 'data', 'using', 'linear', 'regression', 'regression', 'tree', 'and', 'bayesian', 'ridge', 'regression', 'models', 'evaluated', 'them', 'for', 'error', 'and', 'accuracy', 'result', 'wrote', 'an', 'academic', 'paper', 'link', 'naval', 'postgraduate', 'school']\n"
          ],
          "name": "stdout"
        }
      ]
    },
    {
      "cell_type": "code",
      "metadata": {
        "colab": {
          "base_uri": "https://localhost:8080/"
        },
        "id": "Mk-qgPju_q_s",
        "outputId": "dc337eac-588d-4ca7-8142-17684e8739ed"
      },
      "source": [
        "# remove the stopwords from the text\n",
        "final_text = [word for word in final_text if word not in stop_words] #another regex\n",
        "print(len(final_text), \"without stopwords\")\n",
        "\n",
        "print(final_text[1:100])"
      ],
      "execution_count": null,
      "outputs": [
        {
          "output_type": "stream",
          "text": [
            "848 without stopwords\n",
            "['ghosh', 'ph', 'portfolio', 'git', 'blog', 'objective', 'responsible', 'hardworking', 'student', 'excellent', 'work', 'ethic', 'proven', 'leadership', 'abilities', 'time', 'management', 'skills', 'looking', 'exciting', 'computing', 'opportunities', 'research', 'special', 'interest', 'group', 'sig', 'sustainability', 'san', 'jose', 'ca', 'project', 'selected', 'alumni', 'program', 'focused', 'modeling', 'water', 'quality', 'using', 'public', 'indian', 'water', 'quality', 'data', 'dataset', 'includes', 'historical', 'data', 'pollution', 'levels', 'various', 'monitoring', 'stations', 'across', 'india', 'worked', 'data', 'modelling', 'data', 'using', 'linear', 'regression', 'regression', 'tree', 'bayesian', 'ridge', 'regression', 'models', 'evaluated', 'error', 'accuracy', 'result', 'wrote', 'academic', 'paper', 'link', 'naval', 'postgraduate', 'school', 'monterey', 'ca', 'project', 'selected', 'seap', 'intern', 'program', 'worked', 'using', 'ibm', 'oracle', 'blockchain', 'platform', 'create', 'system', 'tracks', 'shipment', 'details', 'transportation']\n"
          ],
          "name": "stdout"
        }
      ]
    },
    {
      "cell_type": "code",
      "metadata": {
        "colab": {
          "base_uri": "https://localhost:8080/"
        },
        "id": "65aoPGsNEPBq",
        "outputId": "0365c363-5795-4e8a-ed02-a7c7868a1bdd"
      },
      "source": [
        "# Check frequencies now\n",
        "\n",
        "mp_freqdist = FreqDist(final_text)  \n",
        "mp_freqdist.most_common(25)"
      ],
      "execution_count": null,
      "outputs": [
        {
          "output_type": "execute_result",
          "data": {
            "text/plain": [
              "[('ca', 10),\n",
              " ('outreach', 10),\n",
              " ('san', 8),\n",
              " ('youth', 8),\n",
              " ('jose', 7),\n",
              " ('program', 7),\n",
              " ('using', 7),\n",
              " ('data', 7),\n",
              " ('various', 7),\n",
              " ('selected', 6),\n",
              " ('school', 6),\n",
              " ('award', 6),\n",
              " ('art', 6),\n",
              " ('city', 6),\n",
              " ('new', 6),\n",
              " ('ap', 5),\n",
              " ('june', 5),\n",
              " ('robotics', 5),\n",
              " ('competition', 5),\n",
              " ('ai', 5),\n",
              " ('key', 5),\n",
              " ('team', 5),\n",
              " ('world', 5),\n",
              " ('teams', 5),\n",
              " ('computing', 4)]"
            ]
          },
          "metadata": {
            "tags": []
          },
          "execution_count": 20
        }
      ]
    }
  ]
}